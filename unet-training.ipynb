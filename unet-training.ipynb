{
 "cells": [
  {
   "cell_type": "code",
   "execution_count": 1,
   "metadata": {
    "execution": {
     "iopub.execute_input": "2021-03-12T18:03:19.859996Z",
     "iopub.status.busy": "2021-03-12T18:03:19.859301Z",
     "iopub.status.idle": "2021-03-12T18:03:25.743052Z",
     "shell.execute_reply": "2021-03-12T18:03:25.742433Z"
    },
    "executionInfo": {
     "elapsed": 4008,
     "status": "ok",
     "timestamp": 1615157764639,
     "user": {
      "displayName": "Adrian Morales Pastor",
      "photoUrl": "https://lh3.googleusercontent.com/a-/AOh14GimFGMZM-7_4jcbPc8jE-pL9Ym5UOGJg16ihX8cWA=s64",
      "userId": "18005430464720970937"
     },
     "user_tz": -60
    },
    "id": "9z8Kxk-hd0lU",
    "papermill": {
     "duration": 5.901472,
     "end_time": "2021-03-12T18:03:25.743244",
     "exception": false,
     "start_time": "2021-03-12T18:03:19.841772",
     "status": "completed"
    },
    "tags": []
   },
   "outputs": [],
   "source": [
    "import tensorflow as tf\n",
    "from sklearn.model_selection import KFold\n",
    "\n",
    "from IPython.display import clear_output\n",
    "import matplotlib.pyplot as plt\n",
    "\n",
    "import time\n",
    "import os\n",
    "\n",
    "import pandas as pd\n",
    "# General\n",
    "from glob import glob\n",
    "import resource\n",
    "from tqdm.notebook import tqdm\n",
    "import shutil\n",
    "\n",
    "# Data Handling\n",
    "import numpy as np\n",
    "import pandas as pd\n",
    "import json\n",
    "\n",
    "# Plotting\n",
    "import seaborn as sns\n",
    "import matplotlib.pyplot as plt\n",
    "import matplotlib.patches as patches"
   ]
  },
  {
   "cell_type": "code",
   "execution_count": 2,
   "metadata": {
    "execution": {
     "iopub.execute_input": "2021-03-12T18:03:25.771459Z",
     "iopub.status.busy": "2021-03-12T18:03:25.770805Z",
     "iopub.status.idle": "2021-03-12T18:03:25.781033Z",
     "shell.execute_reply": "2021-03-12T18:03:25.781396Z"
    },
    "executionInfo": {
     "elapsed": 4733,
     "status": "ok",
     "timestamp": 1615157765373,
     "user": {
      "displayName": "Adrian Morales Pastor",
      "photoUrl": "https://lh3.googleusercontent.com/a-/AOh14GimFGMZM-7_4jcbPc8jE-pL9Ym5UOGJg16ihX8cWA=s64",
      "userId": "18005430464720970937"
     },
     "user_tz": -60
    },
    "id": "MjGUmmWjiSPT",
    "papermill": {
     "duration": 0.026236,
     "end_time": "2021-03-12T18:03:25.781543",
     "exception": false,
     "start_time": "2021-03-12T18:03:25.755307",
     "status": "completed"
    },
    "tags": []
   },
   "outputs": [
    {
     "data": {
      "text/plain": [
       "['../input/hubmap-image-dataset/095bf7a1f_1.tfrecords',\n",
       " '../input/hubmap-image-dataset/0486052bb_1.tfrecords',\n",
       " '../input/hubmap-image-dataset/2f6ecfcdf_1.tfrecords',\n",
       " '../input/hubmap-image-dataset/e79de561c_1.tfrecords',\n",
       " '../input/hubmap-image-dataset/1e2425f28_1.tfrecords',\n",
       " '../input/hubmap-image-dataset/aaa6a05cc_1.tfrecords',\n",
       " '../input/hubmap-image-dataset/cb2d976f4_1.tfrecords',\n",
       " '../input/hubmap-image-dataset/54f2eec69_1.tfrecords']"
      ]
     },
     "execution_count": 2,
     "metadata": {},
     "output_type": "execute_result"
    }
   ],
   "source": [
    "tfr_files = glob(\"../input/hubmap-image-dataset/*.tfrecords\")\n",
    "tfr_files"
   ]
  },
  {
   "cell_type": "code",
   "execution_count": 3,
   "metadata": {
    "execution": {
     "iopub.execute_input": "2021-03-12T18:03:25.810920Z",
     "iopub.status.busy": "2021-03-12T18:03:25.810254Z",
     "iopub.status.idle": "2021-03-12T18:03:25.813064Z",
     "shell.execute_reply": "2021-03-12T18:03:25.812558Z"
    },
    "executionInfo": {
     "elapsed": 4727,
     "status": "ok",
     "timestamp": 1615157765374,
     "user": {
      "displayName": "Adrian Morales Pastor",
      "photoUrl": "https://lh3.googleusercontent.com/a-/AOh14GimFGMZM-7_4jcbPc8jE-pL9Ym5UOGJg16ihX8cWA=s64",
      "userId": "18005430464720970937"
     },
     "user_tz": -60
    },
    "id": "iBUaYErfihlN",
    "papermill": {
     "duration": 0.020038,
     "end_time": "2021-03-12T18:03:25.813164",
     "exception": false,
     "start_time": "2021-03-12T18:03:25.793126",
     "status": "completed"
    },
    "tags": []
   },
   "outputs": [],
   "source": [
    "def get_image_from_example(raw_example):\n",
    "    parsed = tf.train.Example.FromString(raw_example.numpy())\n",
    "    \n",
    "    target_bytes_string = parsed.features.feature['target'].bytes_list.value[0]\n",
    "    image_bytes_string = parsed.features.feature['image'].bytes_list.value[0]\n",
    "    \n",
    "    mask = np.frombuffer(target_bytes_string, dtype='<f4').reshape(256,256, 1)\n",
    "    input_image = np.frombuffer(image_bytes_string, dtype='<f4').reshape(256,256,3)\n",
    "    \n",
    "    return mask, input_image"
   ]
  },
  {
   "cell_type": "code",
   "execution_count": 4,
   "metadata": {
    "execution": {
     "iopub.execute_input": "2021-03-12T18:03:25.841614Z",
     "iopub.status.busy": "2021-03-12T18:03:25.840978Z",
     "iopub.status.idle": "2021-03-12T18:03:25.843521Z",
     "shell.execute_reply": "2021-03-12T18:03:25.843886Z"
    },
    "executionInfo": {
     "elapsed": 4721,
     "status": "ok",
     "timestamp": 1615157765375,
     "user": {
      "displayName": "Adrian Morales Pastor",
      "photoUrl": "https://lh3.googleusercontent.com/a-/AOh14GimFGMZM-7_4jcbPc8jE-pL9Ym5UOGJg16ihX8cWA=s64",
      "userId": "18005430464720970937"
     },
     "user_tz": -60
    },
    "id": "0JBIEC0CikT3",
    "papermill": {
     "duration": 0.019375,
     "end_time": "2021-03-12T18:03:25.844003",
     "exception": false,
     "start_time": "2021-03-12T18:03:25.824628",
     "status": "completed"
    },
    "tags": []
   },
   "outputs": [],
   "source": [
    "def batch_generator(dataset, epochs, batch_size):\n",
    "    batched_dataset = dataset.batch(batch_size)\n",
    "    for epoch in range(epochs):\n",
    "        for batch in batched_dataset:\n",
    "            image_list = []\n",
    "            target_list = []\n",
    "\n",
    "            for example in batch:\n",
    "                target, input_image = get_image_from_example(example)\n",
    "\n",
    "                image_list.append(input_image)\n",
    "                target_list.append(target)\n",
    "            image_list = np.stack(image_list)\n",
    "            target_list = np.stack(target_list)\n",
    "\n",
    "            yield (image_list, target_list)"
   ]
  },
  {
   "cell_type": "markdown",
   "metadata": {
    "id": "ErMYAOvRiqym",
    "papermill": {
     "duration": 0.011354,
     "end_time": "2021-03-12T18:03:25.867295",
     "exception": false,
     "start_time": "2021-03-12T18:03:25.855941",
     "status": "completed"
    },
    "tags": []
   },
   "source": [
    "## Define the model"
   ]
  },
  {
   "cell_type": "code",
   "execution_count": 5,
   "metadata": {
    "execution": {
     "iopub.execute_input": "2021-03-12T18:03:25.894213Z",
     "iopub.status.busy": "2021-03-12T18:03:25.893551Z",
     "iopub.status.idle": "2021-03-12T18:03:25.896328Z",
     "shell.execute_reply": "2021-03-12T18:03:25.895938Z"
    },
    "executionInfo": {
     "elapsed": 4715,
     "status": "ok",
     "timestamp": 1615157765376,
     "user": {
      "displayName": "Adrian Morales Pastor",
      "photoUrl": "https://lh3.googleusercontent.com/a-/AOh14GimFGMZM-7_4jcbPc8jE-pL9Ym5UOGJg16ihX8cWA=s64",
      "userId": "18005430464720970937"
     },
     "user_tz": -60
    },
    "id": "lMK2nM9FisMY",
    "papermill": {
     "duration": 0.017506,
     "end_time": "2021-03-12T18:03:25.896448",
     "exception": false,
     "start_time": "2021-03-12T18:03:25.878942",
     "status": "completed"
    },
    "tags": []
   },
   "outputs": [],
   "source": [
    "OUTPUT_CHANNELS = 0"
   ]
  },
  {
   "cell_type": "code",
   "execution_count": 6,
   "metadata": {
    "execution": {
     "iopub.execute_input": "2021-03-12T18:03:25.925030Z",
     "iopub.status.busy": "2021-03-12T18:03:25.924354Z",
     "iopub.status.idle": "2021-03-12T18:03:25.927278Z",
     "shell.execute_reply": "2021-03-12T18:03:25.926785Z"
    },
    "executionInfo": {
     "elapsed": 4710,
     "status": "ok",
     "timestamp": 1615157765377,
     "user": {
      "displayName": "Adrian Morales Pastor",
      "photoUrl": "https://lh3.googleusercontent.com/a-/AOh14GimFGMZM-7_4jcbPc8jE-pL9Ym5UOGJg16ihX8cWA=s64",
      "userId": "18005430464720970937"
     },
     "user_tz": -60
    },
    "id": "lM0h1CZBiwMN",
    "papermill": {
     "duration": 0.019251,
     "end_time": "2021-03-12T18:03:25.927377",
     "exception": false,
     "start_time": "2021-03-12T18:03:25.908126",
     "status": "completed"
    },
    "tags": []
   },
   "outputs": [],
   "source": [
    "def downsample(filters, size, apply_batchnorm=True):\n",
    "    initializer = tf.random_normal_initializer(0., 0.02)\n",
    "\n",
    "    result = tf.keras.Sequential()\n",
    "    result.add(\n",
    "        tf.keras.layers.Conv2D(filters, size, strides=2, padding='same',\n",
    "                               kernel_initializer=initializer, use_bias=False))\n",
    "\n",
    "    if apply_batchnorm:\n",
    "        result.add(tf.keras.layers.BatchNormalization())\n",
    "\n",
    "    result.add(tf.keras.layers.LeakyReLU())\n",
    "\n",
    "    return result"
   ]
  },
  {
   "cell_type": "code",
   "execution_count": 7,
   "metadata": {
    "execution": {
     "iopub.execute_input": "2021-03-12T18:03:25.958036Z",
     "iopub.status.busy": "2021-03-12T18:03:25.957389Z",
     "iopub.status.idle": "2021-03-12T18:03:25.960199Z",
     "shell.execute_reply": "2021-03-12T18:03:25.959702Z"
    },
    "executionInfo": {
     "elapsed": 4704,
     "status": "ok",
     "timestamp": 1615157765377,
     "user": {
      "displayName": "Adrian Morales Pastor",
      "photoUrl": "https://lh3.googleusercontent.com/a-/AOh14GimFGMZM-7_4jcbPc8jE-pL9Ym5UOGJg16ihX8cWA=s64",
      "userId": "18005430464720970937"
     },
     "user_tz": -60
    },
    "id": "_iMwRhGLiyIo",
    "papermill": {
     "duration": 0.019907,
     "end_time": "2021-03-12T18:03:25.960298",
     "exception": false,
     "start_time": "2021-03-12T18:03:25.940391",
     "status": "completed"
    },
    "tags": []
   },
   "outputs": [],
   "source": [
    "def upsample(filters, size, apply_dropout=False):\n",
    "    initializer = tf.random_normal_initializer(0., 0.02)\n",
    "\n",
    "    result = tf.keras.Sequential()\n",
    "    result.add(\n",
    "        tf.keras.layers.Conv2DTranspose(filters, size, strides=2,\n",
    "                                        padding='same',\n",
    "                                        kernel_initializer=initializer,\n",
    "                                        use_bias=False))\n",
    "\n",
    "    result.add(tf.keras.layers.BatchNormalization())\n",
    "\n",
    "    if apply_dropout:\n",
    "        result.add(tf.keras.layers.Dropout(0.5))\n",
    "\n",
    "    result.add(tf.keras.layers.ReLU())\n",
    "\n",
    "    return result"
   ]
  },
  {
   "cell_type": "code",
   "execution_count": 8,
   "metadata": {
    "execution": {
     "iopub.execute_input": "2021-03-12T18:03:25.993439Z",
     "iopub.status.busy": "2021-03-12T18:03:25.991353Z",
     "iopub.status.idle": "2021-03-12T18:03:25.996094Z",
     "shell.execute_reply": "2021-03-12T18:03:25.995702Z"
    },
    "executionInfo": {
     "elapsed": 4699,
     "status": "ok",
     "timestamp": 1615157765378,
     "user": {
      "displayName": "Adrian Morales Pastor",
      "photoUrl": "https://lh3.googleusercontent.com/a-/AOh14GimFGMZM-7_4jcbPc8jE-pL9Ym5UOGJg16ihX8cWA=s64",
      "userId": "18005430464720970937"
     },
     "user_tz": -60
    },
    "id": "GaWhmIIAizaZ",
    "papermill": {
     "duration": 0.024121,
     "end_time": "2021-03-12T18:03:25.996213",
     "exception": false,
     "start_time": "2021-03-12T18:03:25.972092",
     "status": "completed"
    },
    "tags": []
   },
   "outputs": [],
   "source": [
    "def Generator():\n",
    "    \n",
    "    inputs = tf.keras.layers.Input(shape=[256, 256, 3])\n",
    "\n",
    "    down_stack = [\n",
    "        downsample(64, 4, apply_batchnorm=False),  # (bs, 128, 128, 64)\n",
    "        downsample(128, 4),  # (bs, 64, 64, 128)\n",
    "        downsample(256, 4),  # (bs, 32, 32, 256)\n",
    "        downsample(512, 4),  # (bs, 16, 16, 512)\n",
    "        downsample(512, 4),  # (bs, 8, 8, 512)\n",
    "        downsample(512, 4),  # (bs, 4, 4, 512)\n",
    "        downsample(512, 4),  # (bs, 2, 2, 512)\n",
    "        downsample(512, 4),  # (bs, 1, 1, 512)\n",
    "    ]\n",
    "\n",
    "    up_stack = [\n",
    "        upsample(512, 4, apply_dropout=True),  # (bs, 2, 2, 1024)\n",
    "        upsample(512, 4, apply_dropout=True),  # (bs, 4, 4, 1024)\n",
    "        upsample(512, 4, apply_dropout=True),  # (bs, 8, 8, 1024)\n",
    "        upsample(512, 4),  # (bs, 16, 16, 1024)\n",
    "        upsample(256, 4),  # (bs, 32, 32, 512)\n",
    "        upsample(128, 4),  # (bs, 64, 64, 256)\n",
    "        upsample(64, 4),  # (bs, 128, 128, 128)\n",
    "    ]\n",
    "\n",
    "    initializer = tf.random_normal_initializer(0., 0.02)\n",
    "    last = tf.keras.layers.Conv2DTranspose(1, 4,\n",
    "                                           strides=2,\n",
    "                                           padding='same',\n",
    "                                           kernel_initializer=initializer,\n",
    "                                           activation='sigmoid')  # (bs, 256, 256, 3)\n",
    "\n",
    "    x = inputs\n",
    "\n",
    "    # Downsampling through the model\n",
    "    skips = []\n",
    "    for down in down_stack:\n",
    "        x = down(x)\n",
    "        skips.append(x)\n",
    "\n",
    "    skips = reversed(skips[:-1])\n",
    "\n",
    "    # Upsampling and establishing the skip connections\n",
    "    for up, skip in zip(up_stack, skips):\n",
    "        x = up(x)\n",
    "        x = tf.keras.layers.Concatenate()([x, skip])\n",
    "\n",
    "    x = last(x)\n",
    "\n",
    "    return tf.keras.Model(inputs=inputs, outputs=x)"
   ]
  },
  {
   "cell_type": "markdown",
   "metadata": {
    "id": "4mbpMGphi6Bw",
    "papermill": {
     "duration": 0.012007,
     "end_time": "2021-03-12T18:03:26.020563",
     "exception": false,
     "start_time": "2021-03-12T18:03:26.008556",
     "status": "completed"
    },
    "tags": []
   },
   "source": [
    "## Train the model"
   ]
  },
  {
   "cell_type": "code",
   "execution_count": 9,
   "metadata": {
    "execution": {
     "iopub.execute_input": "2021-03-12T18:03:26.050909Z",
     "iopub.status.busy": "2021-03-12T18:03:26.050217Z",
     "iopub.status.idle": "2021-03-12T18:03:26.053011Z",
     "shell.execute_reply": "2021-03-12T18:03:26.052605Z"
    },
    "executionInfo": {
     "elapsed": 4693,
     "status": "ok",
     "timestamp": 1615157765378,
     "user": {
      "displayName": "Adrian Morales Pastor",
      "photoUrl": "https://lh3.googleusercontent.com/a-/AOh14GimFGMZM-7_4jcbPc8jE-pL9Ym5UOGJg16ihX8cWA=s64",
      "userId": "18005430464720970937"
     },
     "user_tz": -60
    },
    "id": "niN2egsti4sw",
    "papermill": {
     "duration": 0.020245,
     "end_time": "2021-03-12T18:03:26.053113",
     "exception": false,
     "start_time": "2021-03-12T18:03:26.032868",
     "status": "completed"
    },
    "tags": []
   },
   "outputs": [],
   "source": [
    "def generate_images(input_image, mask):    \n",
    "\n",
    "    pred = generator.predict(input_image.copy()[np.newaxis, ...]).reshape(1, 256,256)\n",
    "    \n",
    "    loss = dice_coef(pred, mask).numpy()\n",
    "\n",
    "    print(loss)\n",
    "\n",
    "    # Plot\n",
    "    plt.figure(figsize=(15, 7))\n",
    "    plt.subplot(1, 3, 1)\n",
    "    plt.imshow(input_image)\n",
    "\n",
    "    plt.subplot(1, 3, 2)\n",
    "    plt.imshow(mask[0])\n",
    "\n",
    "    plt.subplot(1, 3, 3)\n",
    "    plt.imshow(pred[0])\n",
    "\n",
    "    plt.show()\n",
    "    \n",
    "    return input_image, mask, loss"
   ]
  },
  {
   "cell_type": "code",
   "execution_count": 10,
   "metadata": {
    "execution": {
     "iopub.execute_input": "2021-03-12T18:03:26.080318Z",
     "iopub.status.busy": "2021-03-12T18:03:26.079710Z",
     "iopub.status.idle": "2021-03-12T18:03:26.082564Z",
     "shell.execute_reply": "2021-03-12T18:03:26.081999Z"
    },
    "executionInfo": {
     "elapsed": 4688,
     "status": "ok",
     "timestamp": 1615157765379,
     "user": {
      "displayName": "Adrian Morales Pastor",
      "photoUrl": "https://lh3.googleusercontent.com/a-/AOh14GimFGMZM-7_4jcbPc8jE-pL9Ym5UOGJg16ihX8cWA=s64",
      "userId": "18005430464720970937"
     },
     "user_tz": -60
    },
    "id": "k0T_iBbQWgbQ",
    "papermill": {
     "duration": 0.017649,
     "end_time": "2021-03-12T18:03:26.082670",
     "exception": false,
     "start_time": "2021-03-12T18:03:26.065021",
     "status": "completed"
    },
    "tags": []
   },
   "outputs": [],
   "source": [
    "# resolver = tf.distribute.cluster_resolver.TPUClusterResolver(tpu='grpc://' + os.environ['COLAB_TPU_ADDR'])\n",
    "# tf.config.experimental_connect_to_cluster(resolver)\n",
    "# # This is the TPU initialization code that has to be at the beginning.\n",
    "# tf.tpu.experimental.initialize_tpu_system(resolver)\n",
    "# print(\"All devices: \", tf.config.list_logical_devices('TPU'))"
   ]
  },
  {
   "cell_type": "code",
   "execution_count": 11,
   "metadata": {
    "execution": {
     "iopub.execute_input": "2021-03-12T18:03:26.113506Z",
     "iopub.status.busy": "2021-03-12T18:03:26.112780Z",
     "iopub.status.idle": "2021-03-12T18:03:26.115048Z",
     "shell.execute_reply": "2021-03-12T18:03:26.115446Z"
    },
    "executionInfo": {
     "elapsed": 4682,
     "status": "ok",
     "timestamp": 1615157765379,
     "user": {
      "displayName": "Adrian Morales Pastor",
      "photoUrl": "https://lh3.googleusercontent.com/a-/AOh14GimFGMZM-7_4jcbPc8jE-pL9Ym5UOGJg16ihX8cWA=s64",
      "userId": "18005430464720970937"
     },
     "user_tz": -60
    },
    "id": "QobOUjTyt3fd",
    "papermill": {
     "duration": 0.020695,
     "end_time": "2021-03-12T18:03:26.115565",
     "exception": false,
     "start_time": "2021-03-12T18:03:26.094870",
     "status": "completed"
    },
    "tags": []
   },
   "outputs": [],
   "source": [
    "def get_generator():\n",
    "    strategy = tf.distribute.MirroredStrategy()\n",
    "  # strategy = tf.distribute.TPUStrategy(resolver)\n",
    "\n",
    "    with strategy.scope():\n",
    "        generator = Generator()\n",
    "        generator_optimizer = tf.keras.optimizers.Adam(2e-2, beta_1=0.5)\n",
    "\n",
    "    def dice_coef(a, b, smooth=1e-5):\n",
    "        sum_a = tf.reduce_sum(a, [1,2])\n",
    "        sum_b = tf.reduce_sum(b, [1,2])\n",
    "      \n",
    "        join_sum = tf.reduce_sum(tf.multiply(a, b,), [1,2])\n",
    "\n",
    "      # print(sum_a)\n",
    "      # print(sum_b)\n",
    "      # print(join_sum)\n",
    "\n",
    "        dice = 1-(join_sum*2+smooth)/(sum_a+sum_b+smooth)\n",
    "\n",
    "        dice = tf.math.reduce_mean(dice)\n",
    "      \n",
    "        return dice\n",
    "      \n",
    "    generator.compile(generator_optimizer,dice_coef)\n",
    "\n",
    "    return generator"
   ]
  },
  {
   "cell_type": "code",
   "execution_count": 12,
   "metadata": {
    "execution": {
     "iopub.execute_input": "2021-03-12T18:03:26.143695Z",
     "iopub.status.busy": "2021-03-12T18:03:26.143063Z",
     "iopub.status.idle": "2021-03-12T18:03:26.145636Z",
     "shell.execute_reply": "2021-03-12T18:03:26.146066Z"
    },
    "executionInfo": {
     "elapsed": 4677,
     "status": "ok",
     "timestamp": 1615157765380,
     "user": {
      "displayName": "Adrian Morales Pastor",
      "photoUrl": "https://lh3.googleusercontent.com/a-/AOh14GimFGMZM-7_4jcbPc8jE-pL9Ym5UOGJg16ihX8cWA=s64",
      "userId": "18005430464720970937"
     },
     "user_tz": -60
    },
    "id": "TygqKQ3Ivm9y",
    "papermill": {
     "duration": 0.018296,
     "end_time": "2021-03-12T18:03:26.146201",
     "exception": false,
     "start_time": "2021-03-12T18:03:26.127905",
     "status": "completed"
    },
    "tags": []
   },
   "outputs": [],
   "source": [
    "kf = KFold(4, shuffle=True)"
   ]
  },
  {
   "cell_type": "code",
   "execution_count": 13,
   "metadata": {
    "execution": {
     "iopub.execute_input": "2021-03-12T18:03:26.174983Z",
     "iopub.status.busy": "2021-03-12T18:03:26.174340Z",
     "iopub.status.idle": "2021-03-12T18:03:26.177129Z",
     "shell.execute_reply": "2021-03-12T18:03:26.176641Z"
    },
    "executionInfo": {
     "elapsed": 2636,
     "status": "ok",
     "timestamp": 1615158650992,
     "user": {
      "displayName": "Adrian Morales Pastor",
      "photoUrl": "https://lh3.googleusercontent.com/a-/AOh14GimFGMZM-7_4jcbPc8jE-pL9Ym5UOGJg16ihX8cWA=s64",
      "userId": "18005430464720970937"
     },
     "user_tz": -60
    },
    "id": "kN5Ln-EAjD8F",
    "papermill": {
     "duration": 0.018588,
     "end_time": "2021-03-12T18:03:26.177237",
     "exception": false,
     "start_time": "2021-03-12T18:03:26.158649",
     "status": "completed"
    },
    "tags": []
   },
   "outputs": [],
   "source": [
    "batch_size = 20\n",
    "epochs = 20\n",
    "steps_per_epoch = int(6000/batch_size)\n",
    "val_epochs = (200*200//2000)\n",
    "checkpoint_filepath = \"checkpoints/\""
   ]
  },
  {
   "cell_type": "code",
   "execution_count": 14,
   "metadata": {
    "execution": {
     "iopub.execute_input": "2021-03-12T18:03:26.205980Z",
     "iopub.status.busy": "2021-03-12T18:03:26.205287Z",
     "iopub.status.idle": "2021-03-12T18:03:26.208146Z",
     "shell.execute_reply": "2021-03-12T18:03:26.207756Z"
    },
    "papermill": {
     "duration": 0.018522,
     "end_time": "2021-03-12T18:03:26.208247",
     "exception": false,
     "start_time": "2021-03-12T18:03:26.189725",
     "status": "completed"
    },
    "tags": []
   },
   "outputs": [],
   "source": [
    "if not os.path.exists('checkpoints'):\n",
    "    os.mkdir('checkpoints/')"
   ]
  },
  {
   "cell_type": "code",
   "execution_count": 15,
   "metadata": {
    "execution": {
     "iopub.execute_input": "2021-03-12T18:03:26.244236Z",
     "iopub.status.busy": "2021-03-12T18:03:26.243592Z",
     "iopub.status.idle": "2021-03-12T19:17:30.807671Z",
     "shell.execute_reply": "2021-03-12T19:17:30.799210Z"
    },
    "executionInfo": {
     "elapsed": 105293,
     "status": "error",
     "timestamp": 1615158786271,
     "user": {
      "displayName": "Adrian Morales Pastor",
      "photoUrl": "https://lh3.googleusercontent.com/a-/AOh14GimFGMZM-7_4jcbPc8jE-pL9Ym5UOGJg16ihX8cWA=s64",
      "userId": "18005430464720970937"
     },
     "user_tz": -60
    },
    "id": "MowQ4wwsvuY8",
    "outputId": "7de2af74-d398-404e-e780-26bd657058c5",
    "papermill": {
     "duration": 4444.588107,
     "end_time": "2021-03-12T19:17:30.808871",
     "exception": false,
     "start_time": "2021-03-12T18:03:26.220764",
     "status": "completed"
    },
    "tags": []
   },
   "outputs": [
    {
     "name": "stdout",
     "output_type": "stream",
     "text": [
      "300/300 [==============================] - 79s 234ms/step - loss: 0.4300 - val_loss: 0.7610\n",
      "Saving model\n",
      "300/300 [==============================] - 51s 171ms/step - loss: 0.2897 - val_loss: 0.4536\n",
      "Saving model\n",
      "300/300 [==============================] - 51s 171ms/step - loss: 0.2581 - val_loss: 0.9999\n",
      "300/300 [==============================] - 51s 171ms/step - loss: 0.2366 - val_loss: 0.9943\n",
      "300/300 [==============================] - 51s 170ms/step - loss: 0.2199 - val_loss: 0.9773\n",
      "300/300 [==============================] - 51s 171ms/step - loss: 0.1734 - val_loss: 0.9992\n",
      "300/300 [==============================] - 51s 171ms/step - loss: 0.1570 - val_loss: 0.9758\n",
      "300/300 [==============================] - 51s 170ms/step - loss: 0.1475 - val_loss: 0.7959\n",
      "300/300 [==============================] - 51s 170ms/step - loss: 0.1420 - val_loss: 0.8980\n",
      "300/300 [==============================] - 51s 171ms/step - loss: 0.1318 - val_loss: 0.8958\n",
      "300/300 [==============================] - 51s 171ms/step - loss: 0.1274 - val_loss: 0.8656\n",
      "300/300 [==============================] - 51s 171ms/step - loss: 0.1261 - val_loss: 0.8665\n",
      "300/300 [==============================] - 51s 170ms/step - loss: 0.1186 - val_loss: 0.2207\n",
      "Saving model\n",
      "300/300 [==============================] - 51s 171ms/step - loss: 0.1152 - val_loss: 0.2641\n",
      "300/300 [==============================] - 51s 171ms/step - loss: 0.1144 - val_loss: 0.1282\n",
      "Saving model\n",
      "300/300 [==============================] - 52s 172ms/step - loss: 0.1104 - val_loss: 0.3266\n",
      "300/300 [==============================] - 51s 171ms/step - loss: 0.1048 - val_loss: 0.2794\n",
      "300/300 [==============================] - 51s 171ms/step - loss: 0.1018 - val_loss: 0.8527\n",
      "300/300 [==============================] - 51s 170ms/step - loss: 0.1009 - val_loss: 0.2737\n",
      "300/300 [==============================] - 51s 170ms/step - loss: 0.1056 - val_loss: 0.3157\n"
     ]
    },
    {
     "data": {
      "image/png": "[encoded data removed]",
      "text/plain": [
       "<Figure size 432x288 with 1 Axes>"
      ]
     },
     "metadata": {
      "needs_background": "light"
     },
     "output_type": "display_data"
    },
    {
     "name": "stdout",
     "output_type": "stream",
     "text": [
      "300/300 [==============================] - 63s 189ms/step - loss: 0.5002 - val_loss: 0.5516\n",
      "Saving model\n",
      "300/300 [==============================] - 51s 171ms/step - loss: 0.2536 - val_loss: 1.0000\n",
      "300/300 [==============================] - 51s 171ms/step - loss: 0.2458 - val_loss: 0.7284\n",
      "300/300 [==============================] - 51s 170ms/step - loss: 0.2097 - val_loss: 0.7355\n",
      "300/300 [==============================] - 51s 171ms/step - loss: 0.1718 - val_loss: 0.7949\n",
      "300/300 [==============================] - 51s 171ms/step - loss: 0.1472 - val_loss: 0.5883\n",
      "300/300 [==============================] - 51s 171ms/step - loss: 0.1416 - val_loss: 0.2465\n",
      "Saving model\n",
      "300/300 [==============================] - 51s 171ms/step - loss: 0.1309 - val_loss: 0.4427\n",
      "300/300 [==============================] - 51s 170ms/step - loss: 0.1285 - val_loss: 0.2622\n",
      "300/300 [==============================] - 51s 170ms/step - loss: 0.1197 - val_loss: 0.1883\n",
      "Saving model\n",
      "300/300 [==============================] - 51s 170ms/step - loss: 0.1225 - val_loss: 0.2392\n",
      "300/300 [==============================] - 51s 171ms/step - loss: 0.1107 - val_loss: 0.6215\n",
      "300/300 [==============================] - 51s 171ms/step - loss: 0.1080 - val_loss: 0.3255\n",
      "300/300 [==============================] - 51s 170ms/step - loss: 0.1031 - val_loss: 0.2963\n",
      "300/300 [==============================] - 51s 171ms/step - loss: 0.0981 - val_loss: 0.1830\n",
      "300/300 [==============================] - 51s 171ms/step - loss: 0.1016 - val_loss: 0.2691\n",
      "300/300 [==============================] - 51s 171ms/step - loss: 0.0978 - val_loss: 0.3847\n",
      "300/300 [==============================] - 51s 170ms/step - loss: 0.0961 - val_loss: 0.5139\n",
      "300/300 [==============================] - 51s 171ms/step - loss: 0.0959 - val_loss: 0.2146\n",
      "300/300 [==============================] - 51s 170ms/step - loss: 0.0905 - val_loss: 0.2265\n"
     ]
    },
    {
     "data": {
      "image/png": "[encoded data removed]",
      "text/plain": [
       "<Figure size 432x288 with 1 Axes>"
      ]
     },
     "metadata": {
      "needs_background": "light"
     },
     "output_type": "display_data"
    },
    {
     "name": "stdout",
     "output_type": "stream",
     "text": [
      "300/300 [==============================] - 60s 182ms/step - loss: 0.6225 - val_loss: 0.7732\n",
      "Saving model\n",
      "300/300 [==============================] - 52s 175ms/step - loss: 0.7691 - val_loss: 0.7851\n",
      "300/300 [==============================] - 51s 171ms/step - loss: 0.7691 - val_loss: 0.7807\n",
      "300/300 [==============================] - 51s 172ms/step - loss: 0.7691 - val_loss: 0.7787\n",
      "300/300 [==============================] - 51s 171ms/step - loss: 0.7691 - val_loss: 0.7700\n",
      "300/300 [==============================] - 52s 172ms/step - loss: 0.7691 - val_loss: 0.7614\n",
      "Saving model\n",
      "300/300 [==============================] - 52s 173ms/step - loss: 0.7691 - val_loss: 0.7757\n",
      "300/300 [==============================] - 51s 170ms/step - loss: 0.7691 - val_loss: 0.7704\n",
      "300/300 [==============================] - 51s 171ms/step - loss: 0.7691 - val_loss: 0.7695\n",
      "300/300 [==============================] - 52s 172ms/step - loss: 0.7691 - val_loss: 0.7699\n",
      "300/300 [==============================] - 54s 179ms/step - loss: 0.7691 - val_loss: 0.7657\n",
      "300/300 [==============================] - 52s 172ms/step - loss: 0.7691 - val_loss: 0.7751\n",
      "300/300 [==============================] - 53s 176ms/step - loss: 0.7691 - val_loss: 0.7670\n",
      "300/300 [==============================] - 51s 170ms/step - loss: 0.7691 - val_loss: 0.7629\n",
      "300/300 [==============================] - 51s 171ms/step - loss: 0.7691 - val_loss: 0.7736\n",
      "300/300 [==============================] - 51s 171ms/step - loss: 0.7691 - val_loss: 0.7820\n",
      "300/300 [==============================] - 53s 177ms/step - loss: 0.7691 - val_loss: 0.7841\n",
      "300/300 [==============================] - 51s 169ms/step - loss: 0.7691 - val_loss: 0.7797\n",
      "300/300 [==============================] - 51s 171ms/step - loss: 0.7691 - val_loss: 0.7789\n",
      "300/300 [==============================] - 51s 171ms/step - loss: 0.7691 - val_loss: 0.7656\n"
     ]
    },
    {
     "data": {
      "image/png": "[encoded data removed]",
      "text/plain": [
       "<Figure size 432x288 with 1 Axes>"
      ]
     },
     "metadata": {
      "needs_background": "light"
     },
     "output_type": "display_data"
    },
    {
     "name": "stdout",
     "output_type": "stream",
     "text": [
      "300/300 [==============================] - 62s 185ms/step - loss: 0.4469 - val_loss: 0.7929\n",
      "Saving model\n",
      "300/300 [==============================] - 51s 170ms/step - loss: 0.2437 - val_loss: 0.9704\n",
      "300/300 [==============================] - 51s 170ms/step - loss: 0.2176 - val_loss: 0.8129\n",
      "300/300 [==============================] - 51s 171ms/step - loss: 0.1925 - val_loss: 0.5425\n",
      "Saving model\n",
      "300/300 [==============================] - 51s 171ms/step - loss: 0.1709 - val_loss: 0.7731\n",
      "300/300 [==============================] - 51s 172ms/step - loss: 0.1353 - val_loss: 0.5360\n",
      "Saving model\n",
      "300/300 [==============================] - 51s 172ms/step - loss: 0.1257 - val_loss: 0.9997\n",
      "300/300 [==============================] - 51s 170ms/step - loss: 0.1185 - val_loss: 0.7766\n",
      "300/300 [==============================] - 51s 171ms/step - loss: 0.1153 - val_loss: 0.9598\n",
      "300/300 [==============================] - 51s 170ms/step - loss: 0.1116 - val_loss: 0.2692\n",
      "Saving model\n",
      "300/300 [==============================] - 51s 171ms/step - loss: 0.1056 - val_loss: 0.6716\n",
      "300/300 [==============================] - 51s 171ms/step - loss: 0.1005 - val_loss: 0.8262\n",
      "300/300 [==============================] - 51s 169ms/step - loss: 0.1014 - val_loss: 0.6221\n",
      "300/300 [==============================] - 51s 171ms/step - loss: 0.0958 - val_loss: 0.7500\n",
      "300/300 [==============================] - 51s 170ms/step - loss: 0.0945 - val_loss: 0.5119\n",
      "300/300 [==============================] - 51s 171ms/step - loss: 0.0989 - val_loss: 0.5640\n",
      "300/300 [==============================] - 51s 170ms/step - loss: 0.0907 - val_loss: 0.6668\n",
      "300/300 [==============================] - 51s 171ms/step - loss: 0.0853 - val_loss: 0.8921\n",
      "300/300 [==============================] - 51s 171ms/step - loss: 0.0849 - val_loss: 0.5268\n",
      "300/300 [==============================] - 51s 171ms/step - loss: 0.0859 - val_loss: 0.8063\n"
     ]
    },
    {
     "data": {
      "image/png": "[encoded data removed]",
      "text/plain": [
       "<Figure size 432x288 with 1 Axes>"
      ]
     },
     "metadata": {
      "needs_background": "light"
     },
     "output_type": "display_data"
    }
   ],
   "source": [
    "files = np.array(glob(\"../input/hubmap-image-dataset/*.tfrecords\"))\n",
    "for train_index, test_index in kf.split(files):\n",
    "    train_set_id = ''.join(sorted(train_index.astype(str)))\n",
    "    train_files = files[train_index]\n",
    "    test_files = files[test_index]\n",
    "\n",
    "    train = tf.data.TFRecordDataset(filenames = train_files)\n",
    "    test = tf.data.TFRecordDataset(filenames=test_files)\n",
    "    test_gen = batch_generator(test.shuffle(2000), epochs=val_epochs, batch_size=200)\n",
    "\n",
    "    loss_df = []\n",
    "\n",
    "    best_val_loss = 1\n",
    "\n",
    "    generator = get_generator()\n",
    "\n",
    "    for epoch in range(epochs):\n",
    "\n",
    "        val_data = next(test_gen)\n",
    "\n",
    "        history = generator.fit(batch_generator(train, 1, batch_size),\n",
    "                                steps_per_epoch=steps_per_epoch,\n",
    "                                epochs=1,\n",
    "                                validation_data=val_data)\n",
    "        history = history.history\n",
    "\n",
    "        if history['val_loss'][0] < best_val_loss:\n",
    "            best_val_loss = history['val_loss'][0]\n",
    "            best_val_id = str(history['val_loss'][0]).split('.')[-1][:2]\n",
    "            # Check for existing saved models\n",
    "            saved_models = glob(f\"{checkpoint_filepath}generator_{train_set_id}*\")\n",
    "            \n",
    "            m = None\n",
    "            if saved_models:\n",
    "                m = saved_models[0]\n",
    "                prev_score = int(m.split('/')[-1].split('_')[-1])\n",
    "                \n",
    "            else:\n",
    "                prev_score = 100\n",
    "\n",
    "            if prev_score > int(best_val_id):\n",
    "                if m:\n",
    "                    shutil.rmtree(m)\n",
    "                print('Saving model')\n",
    "                generator.save(f\"{checkpoint_filepath}generator_{train_set_id}_{best_val_id}\")\n",
    "\n",
    "        loss_df += [[epoch, 'train', history['loss'][0]], [epoch, 'val', history['val_loss'][0]]]\n",
    "\n",
    "    loss_df = pd.DataFrame(loss_df, columns=['epoch', 'set', 'loss'])\n",
    "\n",
    "    sns.lineplot(data=loss_df, x='epoch', y='loss', hue='set')\n",
    "    plt.show()"
   ]
  },
  {
   "cell_type": "code",
   "execution_count": 16,
   "metadata": {
    "execution": {
     "iopub.execute_input": "2021-03-12T19:17:43.921109Z",
     "iopub.status.busy": "2021-03-12T19:17:43.920448Z",
     "iopub.status.idle": "2021-03-12T19:17:45.761299Z",
     "shell.execute_reply": "2021-03-12T19:17:45.760866Z"
    },
    "executionInfo": {
     "elapsed": 883431,
     "status": "aborted",
     "timestamp": 1615158644156,
     "user": {
      "displayName": "Adrian Morales Pastor",
      "photoUrl": "https://lh3.googleusercontent.com/a-/AOh14GimFGMZM-7_4jcbPc8jE-pL9Ym5UOGJg16ihX8cWA=s64",
      "userId": "18005430464720970937"
     },
     "user_tz": -60
    },
    "id": "dgqQHR1xjHmt",
    "papermill": {
     "duration": 8.332507,
     "end_time": "2021-03-12T19:17:45.761444",
     "exception": false,
     "start_time": "2021-03-12T19:17:37.428937",
     "status": "completed"
    },
    "tags": []
   },
   "outputs": [
    {
     "ename": "NameError",
     "evalue": "name 'dice_coef' is not defined",
     "output_type": "error",
     "traceback": [
      "\u001b[0;31m---------------------------------------------------------------------------\u001b[0m",
      "\u001b[0;31mNameError\u001b[0m                                 Traceback (most recent call last)",
      "\u001b[0;32m<ipython-input-16-6cd6f650fd92>\u001b[0m in \u001b[0;36m<module>\u001b[0;34m\u001b[0m\n\u001b[1;32m      3\u001b[0m     \u001b[0mtarget\u001b[0m\u001b[0;34m,\u001b[0m \u001b[0minput_image\u001b[0m \u001b[0;34m=\u001b[0m \u001b[0mget_image_from_example\u001b[0m\u001b[0;34m(\u001b[0m\u001b[0mraw_example\u001b[0m\u001b[0;34m)\u001b[0m\u001b[0;34m\u001b[0m\u001b[0;34m\u001b[0m\u001b[0m\n\u001b[1;32m      4\u001b[0m     \u001b[0mtarget\u001b[0m \u001b[0;34m=\u001b[0m \u001b[0mtarget\u001b[0m\u001b[0;34m.\u001b[0m\u001b[0mreshape\u001b[0m\u001b[0;34m(\u001b[0m\u001b[0;34m(\u001b[0m\u001b[0;36m1\u001b[0m\u001b[0;34m,\u001b[0m \u001b[0;36m256\u001b[0m\u001b[0;34m,\u001b[0m\u001b[0;36m256\u001b[0m\u001b[0;34m)\u001b[0m\u001b[0;34m)\u001b[0m\u001b[0;34m\u001b[0m\u001b[0;34m\u001b[0m\u001b[0m\n\u001b[0;32m----> 5\u001b[0;31m     \u001b[0m_\u001b[0m\u001b[0;34m,\u001b[0m \u001b[0m_\u001b[0m\u001b[0;34m,\u001b[0m \u001b[0mloss\u001b[0m \u001b[0;34m=\u001b[0m \u001b[0mgenerate_images\u001b[0m\u001b[0;34m(\u001b[0m\u001b[0minput_image\u001b[0m\u001b[0;34m,\u001b[0m \u001b[0mtarget\u001b[0m\u001b[0;34m)\u001b[0m\u001b[0;34m\u001b[0m\u001b[0;34m\u001b[0m\u001b[0m\n\u001b[0m\u001b[1;32m      6\u001b[0m     \u001b[0mloss_list\u001b[0m\u001b[0;34m.\u001b[0m\u001b[0mappend\u001b[0m\u001b[0;34m(\u001b[0m\u001b[0mloss\u001b[0m\u001b[0;34m)\u001b[0m\u001b[0;34m\u001b[0m\u001b[0;34m\u001b[0m\u001b[0m\n",
      "\u001b[0;32m<ipython-input-9-0dc063c194b4>\u001b[0m in \u001b[0;36mgenerate_images\u001b[0;34m(input_image, mask)\u001b[0m\n\u001b[1;32m      3\u001b[0m     \u001b[0mpred\u001b[0m \u001b[0;34m=\u001b[0m \u001b[0mgenerator\u001b[0m\u001b[0;34m.\u001b[0m\u001b[0mpredict\u001b[0m\u001b[0;34m(\u001b[0m\u001b[0minput_image\u001b[0m\u001b[0;34m.\u001b[0m\u001b[0mcopy\u001b[0m\u001b[0;34m(\u001b[0m\u001b[0;34m)\u001b[0m\u001b[0;34m[\u001b[0m\u001b[0mnp\u001b[0m\u001b[0;34m.\u001b[0m\u001b[0mnewaxis\u001b[0m\u001b[0;34m,\u001b[0m \u001b[0;34m...\u001b[0m\u001b[0;34m]\u001b[0m\u001b[0;34m)\u001b[0m\u001b[0;34m.\u001b[0m\u001b[0mreshape\u001b[0m\u001b[0;34m(\u001b[0m\u001b[0;36m1\u001b[0m\u001b[0;34m,\u001b[0m \u001b[0;36m256\u001b[0m\u001b[0;34m,\u001b[0m\u001b[0;36m256\u001b[0m\u001b[0;34m)\u001b[0m\u001b[0;34m\u001b[0m\u001b[0;34m\u001b[0m\u001b[0m\n\u001b[1;32m      4\u001b[0m \u001b[0;34m\u001b[0m\u001b[0m\n\u001b[0;32m----> 5\u001b[0;31m     \u001b[0mloss\u001b[0m \u001b[0;34m=\u001b[0m \u001b[0mdice_coef\u001b[0m\u001b[0;34m(\u001b[0m\u001b[0mpred\u001b[0m\u001b[0;34m,\u001b[0m \u001b[0mmask\u001b[0m\u001b[0;34m)\u001b[0m\u001b[0;34m.\u001b[0m\u001b[0mnumpy\u001b[0m\u001b[0;34m(\u001b[0m\u001b[0;34m)\u001b[0m\u001b[0;34m\u001b[0m\u001b[0;34m\u001b[0m\u001b[0m\n\u001b[0m\u001b[1;32m      6\u001b[0m \u001b[0;34m\u001b[0m\u001b[0m\n\u001b[1;32m      7\u001b[0m     \u001b[0mprint\u001b[0m\u001b[0;34m(\u001b[0m\u001b[0mloss\u001b[0m\u001b[0;34m)\u001b[0m\u001b[0;34m\u001b[0m\u001b[0;34m\u001b[0m\u001b[0m\n",
      "\u001b[0;31mNameError\u001b[0m: name 'dice_coef' is not defined"
     ]
    }
   ],
   "source": [
    "loss_list = []\n",
    "for raw_example in test.take(10):\n",
    "    target, input_image = get_image_from_example(raw_example)\n",
    "    target = target.reshape((1, 256,256))\n",
    "    _, _, loss = generate_images(input_image, target)\n",
    "    loss_list.append(loss)"
   ]
  },
  {
   "cell_type": "code",
   "execution_count": 17,
   "metadata": {
    "execution": {
     "iopub.execute_input": "2021-03-12T19:17:58.230678Z",
     "iopub.status.busy": "2021-03-12T19:17:58.230080Z",
     "iopub.status.idle": "2021-03-12T19:17:58.243709Z",
     "shell.execute_reply": "2021-03-12T19:17:58.243227Z"
    },
    "executionInfo": {
     "elapsed": 883425,
     "status": "aborted",
     "timestamp": 1615158644159,
     "user": {
      "displayName": "Adrian Morales Pastor",
      "photoUrl": "https://lh3.googleusercontent.com/a-/AOh14GimFGMZM-7_4jcbPc8jE-pL9Ym5UOGJg16ihX8cWA=s64",
      "userId": "18005430464720970937"
     },
     "user_tz": -60
    },
    "id": "rp4jWoDfKpQA",
    "papermill": {
     "duration": 6.052682,
     "end_time": "2021-03-12T19:17:58.243829",
     "exception": false,
     "start_time": "2021-03-12T19:17:52.191147",
     "status": "completed"
    },
    "tags": []
   },
   "outputs": [
    {
     "name": "stderr",
     "output_type": "stream",
     "text": [
      "/opt/conda/lib/python3.7/site-packages/numpy/core/fromnumeric.py:3373: RuntimeWarning: Mean of empty slice.\n",
      "  out=out, **kwargs)\n",
      "/opt/conda/lib/python3.7/site-packages/numpy/core/_methods.py:170: RuntimeWarning: invalid value encountered in double_scalars\n",
      "  ret = ret.dtype.type(ret / rcount)\n"
     ]
    },
    {
     "data": {
      "text/plain": [
       "nan"
      ]
     },
     "execution_count": 17,
     "metadata": {},
     "output_type": "execute_result"
    }
   ],
   "source": [
    "np.mean(loss_list)"
   ]
  }
 ],
 "metadata": {
  "kernelspec": {
   "display_name": "Python 3 (ipykernel)",
   "language": "python",
   "name": "python3"
  },
  "language_info": {
   "codemirror_mode": {
    "name": "ipython",
    "version": 3
   },
   "file_extension": ".py",
   "mimetype": "text/x-python",
   "name": "python",
   "nbconvert_exporter": "python",
   "pygments_lexer": "ipython3",
   "version": "3.8.5"
  },
  "papermill": {
   "default_parameters": {},
   "duration": 4494.118465,
   "end_time": "2021-03-12T19:18:08.975147",
   "environment_variables": {},
   "exception": null,
   "input_path": "__notebook__.ipynb",
   "output_path": "__notebook__.ipynb",
   "parameters": {},
   "start_time": "2021-03-12T18:03:14.856682",
   "version": "2.2.2"
  },
  "toc": {
   "base_numbering": 1,
   "nav_menu": {},
   "number_sections": true,
   "sideBar": true,
   "skip_h1_title": false,
   "title_cell": "Table of Contents",
   "title_sidebar": "Contents",
   "toc_cell": false,
   "toc_position": {},
   "toc_section_display": true,
   "toc_window_display": false
  },
  "varInspector": {
   "cols": {
    "lenName": 16,
    "lenType": 16,
    "lenVar": 40
   },
   "kernels_config": {
    "python": {
     "delete_cmd_postfix": "",
     "delete_cmd_prefix": "del ",
     "library": "var_list.py",
     "varRefreshCmd": "print(var_dic_list())"
    },
    "r": {
     "delete_cmd_postfix": ") ",
     "delete_cmd_prefix": "rm(",
     "library": "var_list.r",
     "varRefreshCmd": "cat(var_dic_list()) "
    }
   },
   "types_to_exclude": [
    "module",
    "function",
    "builtin_function_or_method",
    "instance",
    "_Feature"
   ],
   "window_display": false
  }
 },
 "nbformat": 4,
 "nbformat_minor": 4
}
