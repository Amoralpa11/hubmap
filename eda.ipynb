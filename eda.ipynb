{
 "cells": [
  {
   "cell_type": "markdown",
   "metadata": {},
   "source": [
    "# Data exploratory analysis "
   ]
  },
  {
   "cell_type": "markdown",
   "metadata": {},
   "source": [
    "### Load modules"
   ]
  },
  {
   "cell_type": "code",
   "execution_count": 2,
   "metadata": {
    "ExecuteTime": {
     "end_time": "2021-10-07T20:08:12.980103Z",
     "start_time": "2021-10-07T20:08:12.045278Z"
    }
   },
   "outputs": [],
   "source": [
    "# General\n",
    "import os\n",
    "import math\n",
    "import re\n",
    "\n",
    "# Data handling\n",
    "import numpy as np\n",
    "import pandas as pd\n",
    "\n",
    "# Plotting\n",
    "import seaborn as sns\n",
    "import matplotlib.pyplot as plt\n",
    "\n",
    "# Image handling\n",
    "import cv2"
   ]
  },
  {
   "cell_type": "markdown",
   "metadata": {},
   "source": [
    "## Load Data"
   ]
  },
  {
   "cell_type": "markdown",
   "metadata": {},
   "source": [
    "### Load patient data"
   ]
  },
  {
   "cell_type": "code",
   "execution_count": 8,
   "metadata": {
    "ExecuteTime": {
     "end_time": "2021-10-07T20:20:17.756233Z",
     "start_time": "2021-10-07T20:20:17.588714Z"
    }
   },
   "outputs": [
    {
     "data": {
      "text/html": [
       "<div>\n",
       "<style scoped>\n",
       "    .dataframe tbody tr th:only-of-type {\n",
       "        vertical-align: middle;\n",
       "    }\n",
       "\n",
       "    .dataframe tbody tr th {\n",
       "        vertical-align: top;\n",
       "    }\n",
       "\n",
       "    .dataframe thead th {\n",
       "        text-align: right;\n",
       "    }\n",
       "</style>\n",
       "<table border=\"1\" class=\"dataframe\">\n",
       "  <thead>\n",
       "    <tr style=\"text-align: right;\">\n",
       "      <th></th>\n",
       "      <th>id</th>\n",
       "      <th>encoding</th>\n",
       "    </tr>\n",
       "  </thead>\n",
       "  <tbody>\n",
       "    <tr>\n",
       "      <th>0</th>\n",
       "      <td>2f6ecfcdf</td>\n",
       "      <td>296084587 4 296115835 6 296115859 14 296147109...</td>\n",
       "    </tr>\n",
       "    <tr>\n",
       "      <th>1</th>\n",
       "      <td>8242609fa</td>\n",
       "      <td>96909968 56 96941265 60 96972563 64 97003861 6...</td>\n",
       "    </tr>\n",
       "    <tr>\n",
       "      <th>2</th>\n",
       "      <td>aaa6a05cc</td>\n",
       "      <td>30989109 59 31007591 64 31026074 68 31044556 7...</td>\n",
       "    </tr>\n",
       "    <tr>\n",
       "      <th>3</th>\n",
       "      <td>cb2d976f4</td>\n",
       "      <td>78144363 5 78179297 15 78214231 25 78249165 35...</td>\n",
       "    </tr>\n",
       "    <tr>\n",
       "      <th>4</th>\n",
       "      <td>b9a3865fc</td>\n",
       "      <td>61271840 4 61303134 13 61334428 22 61365722 30...</td>\n",
       "    </tr>\n",
       "  </tbody>\n",
       "</table>\n",
       "</div>"
      ],
      "text/plain": [
       "          id                                           encoding\n",
       "0  2f6ecfcdf  296084587 4 296115835 6 296115859 14 296147109...\n",
       "1  8242609fa  96909968 56 96941265 60 96972563 64 97003861 6...\n",
       "2  aaa6a05cc  30989109 59 31007591 64 31026074 68 31044556 7...\n",
       "3  cb2d976f4  78144363 5 78179297 15 78214231 25 78249165 35...\n",
       "4  b9a3865fc  61271840 4 61303134 13 61334428 22 61365722 30..."
      ]
     },
     "execution_count": 8,
     "metadata": {},
     "output_type": "execute_result"
    }
   ],
   "source": [
    "train_segmentation = pd.read_csv('data/train.csv')\n",
    "train_segmentation.head(5)"
   ]
  },
  {
   "cell_type": "markdown",
   "metadata": {},
   "source": [
    "This csv file links the id of each sample to the ground truth segmentation in a run-length encoding"
   ]
  },
  {
   "cell_type": "code",
   "execution_count": 11,
   "metadata": {
    "ExecuteTime": {
     "end_time": "2021-10-07T20:29:44.241048Z",
     "start_time": "2021-10-07T20:29:44.211808Z"
    },
    "scrolled": false
   },
   "outputs": [
    {
     "data": {
      "text/html": [
       "<div>\n",
       "<style scoped>\n",
       "    .dataframe tbody tr th:only-of-type {\n",
       "        vertical-align: middle;\n",
       "    }\n",
       "\n",
       "    .dataframe tbody tr th {\n",
       "        vertical-align: top;\n",
       "    }\n",
       "\n",
       "    .dataframe thead th {\n",
       "        text-align: right;\n",
       "    }\n",
       "</style>\n",
       "<table border=\"1\" class=\"dataframe\">\n",
       "  <thead>\n",
       "    <tr style=\"text-align: right;\">\n",
       "      <th></th>\n",
       "      <th>image_file</th>\n",
       "      <th>width_pixels</th>\n",
       "      <th>height_pixels</th>\n",
       "      <th>anatomical_structures_segmention_file</th>\n",
       "      <th>glomerulus_segmentation_file</th>\n",
       "      <th>patient_number</th>\n",
       "      <th>race</th>\n",
       "      <th>ethnicity</th>\n",
       "      <th>sex</th>\n",
       "      <th>age</th>\n",
       "      <th>weight_kilograms</th>\n",
       "      <th>height_centimeters</th>\n",
       "      <th>bmi_kg/m^2</th>\n",
       "      <th>laterality</th>\n",
       "      <th>percent_cortex</th>\n",
       "      <th>percent_medulla</th>\n",
       "    </tr>\n",
       "  </thead>\n",
       "  <tbody>\n",
       "    <tr>\n",
       "      <th>0</th>\n",
       "      <td>aa05346ff.tiff</td>\n",
       "      <td>47340</td>\n",
       "      <td>30720</td>\n",
       "      <td>aa05346ff-anatomical-structure.json</td>\n",
       "      <td>aa05346ff.json</td>\n",
       "      <td>67347</td>\n",
       "      <td>White</td>\n",
       "      <td>Not Hispanic or Latino</td>\n",
       "      <td>Female</td>\n",
       "      <td>58</td>\n",
       "      <td>59.0</td>\n",
       "      <td>160.0</td>\n",
       "      <td>23.0</td>\n",
       "      <td>Right</td>\n",
       "      <td>80</td>\n",
       "      <td>20</td>\n",
       "    </tr>\n",
       "    <tr>\n",
       "      <th>1</th>\n",
       "      <td>afa5e8098.tiff</td>\n",
       "      <td>43780</td>\n",
       "      <td>36800</td>\n",
       "      <td>afa5e8098-anatomical-structure.json</td>\n",
       "      <td>afa5e8098.json</td>\n",
       "      <td>67347</td>\n",
       "      <td>White</td>\n",
       "      <td>Not Hispanic or Latino</td>\n",
       "      <td>Female</td>\n",
       "      <td>58</td>\n",
       "      <td>59.0</td>\n",
       "      <td>160.0</td>\n",
       "      <td>23.0</td>\n",
       "      <td>Right</td>\n",
       "      <td>55</td>\n",
       "      <td>45</td>\n",
       "    </tr>\n",
       "    <tr>\n",
       "      <th>2</th>\n",
       "      <td>54f2eec69.tiff</td>\n",
       "      <td>22240</td>\n",
       "      <td>30440</td>\n",
       "      <td>54f2eec69-anatomical-structure.json</td>\n",
       "      <td>54f2eec69.json</td>\n",
       "      <td>67548</td>\n",
       "      <td>Black or African American</td>\n",
       "      <td>Not Hispanic or Latino</td>\n",
       "      <td>Male</td>\n",
       "      <td>58</td>\n",
       "      <td>79.9</td>\n",
       "      <td>190.5</td>\n",
       "      <td>22.0</td>\n",
       "      <td>Right</td>\n",
       "      <td>75</td>\n",
       "      <td>25</td>\n",
       "    </tr>\n",
       "    <tr>\n",
       "      <th>3</th>\n",
       "      <td>d488c759a.tiff</td>\n",
       "      <td>29020</td>\n",
       "      <td>46660</td>\n",
       "      <td>d488c759a-anatomical-structure.json</td>\n",
       "      <td>d488c759a.json</td>\n",
       "      <td>68138</td>\n",
       "      <td>White</td>\n",
       "      <td>Not Hispanic or Latino</td>\n",
       "      <td>Female</td>\n",
       "      <td>66</td>\n",
       "      <td>81.5</td>\n",
       "      <td>158.8</td>\n",
       "      <td>32.2</td>\n",
       "      <td>Left</td>\n",
       "      <td>100</td>\n",
       "      <td>0</td>\n",
       "    </tr>\n",
       "    <tr>\n",
       "      <th>4</th>\n",
       "      <td>1e2425f28.tiff</td>\n",
       "      <td>32220</td>\n",
       "      <td>26780</td>\n",
       "      <td>1e2425f28-anatomical-structure.json</td>\n",
       "      <td>1e2425f28.json</td>\n",
       "      <td>63921</td>\n",
       "      <td>White</td>\n",
       "      <td>Not Hispanic or Latino</td>\n",
       "      <td>Male</td>\n",
       "      <td>48</td>\n",
       "      <td>131.5</td>\n",
       "      <td>193.0</td>\n",
       "      <td>35.3</td>\n",
       "      <td>Right</td>\n",
       "      <td>65</td>\n",
       "      <td>35</td>\n",
       "    </tr>\n",
       "  </tbody>\n",
       "</table>\n",
       "</div>"
      ],
      "text/plain": [
       "       image_file  width_pixels  height_pixels  \\\n",
       "0  aa05346ff.tiff         47340          30720   \n",
       "1  afa5e8098.tiff         43780          36800   \n",
       "2  54f2eec69.tiff         22240          30440   \n",
       "3  d488c759a.tiff         29020          46660   \n",
       "4  1e2425f28.tiff         32220          26780   \n",
       "\n",
       "  anatomical_structures_segmention_file glomerulus_segmentation_file  \\\n",
       "0   aa05346ff-anatomical-structure.json               aa05346ff.json   \n",
       "1   afa5e8098-anatomical-structure.json               afa5e8098.json   \n",
       "2   54f2eec69-anatomical-structure.json               54f2eec69.json   \n",
       "3   d488c759a-anatomical-structure.json               d488c759a.json   \n",
       "4   1e2425f28-anatomical-structure.json               1e2425f28.json   \n",
       "\n",
       "   patient_number                       race               ethnicity     sex  \\\n",
       "0           67347                      White  Not Hispanic or Latino  Female   \n",
       "1           67347                      White  Not Hispanic or Latino  Female   \n",
       "2           67548  Black or African American  Not Hispanic or Latino    Male   \n",
       "3           68138                      White  Not Hispanic or Latino  Female   \n",
       "4           63921                      White  Not Hispanic or Latino    Male   \n",
       "\n",
       "   age  weight_kilograms  height_centimeters  bmi_kg/m^2 laterality  \\\n",
       "0   58              59.0               160.0        23.0      Right   \n",
       "1   58              59.0               160.0        23.0      Right   \n",
       "2   58              79.9               190.5        22.0      Right   \n",
       "3   66              81.5               158.8        32.2       Left   \n",
       "4   48             131.5               193.0        35.3      Right   \n",
       "\n",
       "   percent_cortex  percent_medulla  \n",
       "0              80               20  \n",
       "1              55               45  \n",
       "2              75               25  \n",
       "3             100                0  \n",
       "4              65               35  "
      ]
     },
     "execution_count": 11,
     "metadata": {},
     "output_type": "execute_result"
    }
   ],
   "source": [
    "train_patient_data = pd.read_csv('data/HuBMAP-20-dataset_information.csv')\n",
    "train_patient_data.head(5)"
   ]
  },
  {
   "cell_type": "markdown",
   "metadata": {},
   "source": [
    "This dataframe holds infomration about the size of the image as well as data from the patient like heigth, weight, sex, etc. There is some redundant information like the name of the files, that can be derived from the sample id. I will merge this dataframe and train_segmentation. "
   ]
  },
  {
   "cell_type": "code",
   "execution_count": 13,
   "metadata": {
    "ExecuteTime": {
     "end_time": "2021-10-07T20:31:09.216759Z",
     "start_time": "2021-10-07T20:31:09.199828Z"
    }
   },
   "outputs": [],
   "source": [
    "# Add a column for the sample id in train_patient_data\n",
    "train_patient_data['sample_id'] = train_patient_data.image_file.apply(lambda x: x.split('.')[0])"
   ]
  },
  {
   "cell_type": "code",
   "execution_count": 23,
   "metadata": {
    "ExecuteTime": {
     "end_time": "2021-10-07T20:36:55.517031Z",
     "start_time": "2021-10-07T20:36:55.491518Z"
    }
   },
   "outputs": [],
   "source": [
    "# Merge train_segmentation and train_patient_data using the sample id columns\n",
    "train = pd.merge(train_segmentation, train_patient_data, left_on='id', right_on='sample_id')\n",
    "\n",
    "# Remove non desired columns\n",
    "train = train.drop(['id', 'image_file', 'anatomical_structures_segmention_file',\n",
    "            'glomerulus_segmentation_file', 'patient_number'], axis=1)\n",
    "\n",
    "# format column names\n",
    "train.columns = ['encoding', 'width', 'height', 'race', 'ethnicity', 'sex',\n",
    "       'age', 'weight', 'height', 'bmi', 'laterality', 'percent_cortex',\n",
    "                 'percent_medulla', 'sample_id']"
   ]
  },
  {
   "cell_type": "markdown",
   "metadata": {},
   "source": [
    "### Load images"
   ]
  },
  {
   "cell_type": "code",
   "execution_count": null,
   "metadata": {},
   "outputs": [],
   "source": [
    "def load_image"
   ]
  }
 ],
 "metadata": {
  "interpreter": {
   "hash": "23badb677f58e934d0b5c770fb1d22fc083fce6a55eac25b73e39d54018f092a"
  },
  "kernelspec": {
   "display_name": "Python [conda env:hubmap]",
   "language": "python",
   "name": "conda-env-hubmap-py"
  },
  "language_info": {
   "codemirror_mode": {
    "name": "ipython",
    "version": 3
   },
   "file_extension": ".py",
   "mimetype": "text/x-python",
   "name": "python",
   "nbconvert_exporter": "python",
   "pygments_lexer": "ipython3",
   "version": "3.9.7"
  },
  "toc": {
   "base_numbering": 1,
   "nav_menu": {},
   "number_sections": true,
   "sideBar": true,
   "skip_h1_title": true,
   "title_cell": "Table of Contents",
   "title_sidebar": "Contents",
   "toc_cell": false,
   "toc_position": {},
   "toc_section_display": true,
   "toc_window_display": true
  },
  "varInspector": {
   "cols": {
    "lenName": 16,
    "lenType": 16,
    "lenVar": 40
   },
   "kernels_config": {
    "python": {
     "delete_cmd_postfix": "",
     "delete_cmd_prefix": "del ",
     "library": "var_list.py",
     "varRefreshCmd": "print(var_dic_list())"
    },
    "r": {
     "delete_cmd_postfix": ") ",
     "delete_cmd_prefix": "rm(",
     "library": "var_list.r",
     "varRefreshCmd": "cat(var_dic_list()) "
    }
   },
   "types_to_exclude": [
    "module",
    "function",
    "builtin_function_or_method",
    "instance",
    "_Feature"
   ],
   "window_display": false
  }
 },
 "nbformat": 4,
 "nbformat_minor": 2
}
