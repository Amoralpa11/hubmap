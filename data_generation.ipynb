{
 "cells": [
  {
   "cell_type": "markdown",
   "id": "b18d3b21",
   "metadata": {},
   "source": [
    "# Data Generation"
   ]
  },
  {
   "cell_type": "markdown",
   "id": "6a204a63",
   "metadata": {},
   "source": [
    "### Import modules"
   ]
  },
  {
   "cell_type": "code",
   "execution_count": 1,
   "id": "90aa733d",
   "metadata": {
    "ExecuteTime": {
     "end_time": "2021-12-23T00:06:48.037466Z",
     "start_time": "2021-12-23T00:06:28.254992Z"
    }
   },
   "outputs": [],
   "source": [
    "# General\n",
    "import os\n",
    "import math\n",
    "import re\n",
    "from glob import glob\n",
    "import pickle\n",
    "from tqdm.notebook import tqdm\n",
    "\n",
    "# Data handling\n",
    "import numpy as np\n",
    "import pandas as pd\n",
    " \n",
    "# Plotting\n",
    "import seaborn as sns\n",
    "import matplotlib.pyplot as plt\n",
    "\n",
    "# Image handling\n",
    "import cv2\n",
    "import rasterio\n",
    "from skimage.draw import polygon2mask\n",
    "from skimage import color\n",
    "\n",
    "from utilities import *\n",
    "import tensorflow as tf"
   ]
  },
  {
   "cell_type": "code",
   "execution_count": 2,
   "id": "6e17e238",
   "metadata": {
    "ExecuteTime": {
     "end_time": "2021-12-23T00:06:48.052487Z",
     "start_time": "2021-12-23T00:06:48.048074Z"
    }
   },
   "outputs": [],
   "source": [
    "import resource\n",
    "\n",
    "def memory_limit():\n",
    "    soft, hard = resource.getrlimit(resource.RLIMIT_AS)\n",
    "    resource.setrlimit(resource.RLIMIT_AS, (int(get_memory() * 1024 * 0.5), hard))\n",
    "\n",
    "def get_memory():\n",
    "    with open('/proc/meminfo', 'r') as mem:\n",
    "        free_memory = 0\n",
    "        for i in mem:\n",
    "            sline = i.split()\n",
    "            if str(sline[0]) in ('MemFree:', 'Buffers:', 'Cached:'):\n",
    "                free_memory += int(sline[1])\n",
    "    return free_memory\n",
    "\n",
    "memory_limit()"
   ]
  },
  {
   "cell_type": "markdown",
   "id": "2f7fc210",
   "metadata": {},
   "source": [
    "##  Load Data"
   ]
  },
  {
   "cell_type": "code",
   "execution_count": 3,
   "id": "dfc8ed56",
   "metadata": {
    "ExecuteTime": {
     "end_time": "2021-12-23T00:06:48.831771Z",
     "start_time": "2021-12-23T00:06:48.061951Z"
    },
    "scrolled": true
   },
   "outputs": [
    {
     "data": {
      "text/html": [
       "<div>\n",
       "<style scoped>\n",
       "    .dataframe tbody tr th:only-of-type {\n",
       "        vertical-align: middle;\n",
       "    }\n",
       "\n",
       "    .dataframe tbody tr th {\n",
       "        vertical-align: top;\n",
       "    }\n",
       "\n",
       "    .dataframe thead th {\n",
       "        text-align: right;\n",
       "    }\n",
       "</style>\n",
       "<table border=\"1\" class=\"dataframe\">\n",
       "  <thead>\n",
       "    <tr style=\"text-align: right;\">\n",
       "      <th></th>\n",
       "      <th>id</th>\n",
       "      <th>encoding</th>\n",
       "    </tr>\n",
       "  </thead>\n",
       "  <tbody>\n",
       "    <tr>\n",
       "      <th>0</th>\n",
       "      <td>2f6ecfcdf</td>\n",
       "      <td>296084587 4 296115835 6 296115859 14 296147109...</td>\n",
       "    </tr>\n",
       "    <tr>\n",
       "      <th>1</th>\n",
       "      <td>8242609fa</td>\n",
       "      <td>96909968 56 96941265 60 96972563 64 97003861 6...</td>\n",
       "    </tr>\n",
       "    <tr>\n",
       "      <th>2</th>\n",
       "      <td>aaa6a05cc</td>\n",
       "      <td>30989109 59 31007591 64 31026074 68 31044556 7...</td>\n",
       "    </tr>\n",
       "    <tr>\n",
       "      <th>3</th>\n",
       "      <td>cb2d976f4</td>\n",
       "      <td>78144363 5 78179297 15 78214231 25 78249165 35...</td>\n",
       "    </tr>\n",
       "    <tr>\n",
       "      <th>4</th>\n",
       "      <td>b9a3865fc</td>\n",
       "      <td>61271840 4 61303134 13 61334428 22 61365722 30...</td>\n",
       "    </tr>\n",
       "  </tbody>\n",
       "</table>\n",
       "</div>"
      ],
      "text/plain": [
       "          id                                           encoding\n",
       "0  2f6ecfcdf  296084587 4 296115835 6 296115859 14 296147109...\n",
       "1  8242609fa  96909968 56 96941265 60 96972563 64 97003861 6...\n",
       "2  aaa6a05cc  30989109 59 31007591 64 31026074 68 31044556 7...\n",
       "3  cb2d976f4  78144363 5 78179297 15 78214231 25 78249165 35...\n",
       "4  b9a3865fc  61271840 4 61303134 13 61334428 22 61365722 30..."
      ]
     },
     "execution_count": 3,
     "metadata": {},
     "output_type": "execute_result"
    }
   ],
   "source": [
    "train_segmentation = pd.read_csv('data/train.csv')\n",
    "train_segmentation.head(5)"
   ]
  },
  {
   "cell_type": "markdown",
   "id": "d4cf70a8",
   "metadata": {},
   "source": [
    "This csv file links the id of each sample to the ground truth segmentation in a run-length encoding"
   ]
  },
  {
   "cell_type": "code",
   "execution_count": 4,
   "id": "bd88ddd3",
   "metadata": {
    "ExecuteTime": {
     "end_time": "2021-12-23T00:06:48.953586Z",
     "start_time": "2021-12-23T00:06:48.907510Z"
    },
    "scrolled": false
   },
   "outputs": [
    {
     "data": {
      "text/html": [
       "<div>\n",
       "<style scoped>\n",
       "    .dataframe tbody tr th:only-of-type {\n",
       "        vertical-align: middle;\n",
       "    }\n",
       "\n",
       "    .dataframe tbody tr th {\n",
       "        vertical-align: top;\n",
       "    }\n",
       "\n",
       "    .dataframe thead th {\n",
       "        text-align: right;\n",
       "    }\n",
       "</style>\n",
       "<table border=\"1\" class=\"dataframe\">\n",
       "  <thead>\n",
       "    <tr style=\"text-align: right;\">\n",
       "      <th></th>\n",
       "      <th>image_file</th>\n",
       "      <th>width_pixels</th>\n",
       "      <th>height_pixels</th>\n",
       "      <th>anatomical_structures_segmention_file</th>\n",
       "      <th>glomerulus_segmentation_file</th>\n",
       "      <th>patient_number</th>\n",
       "      <th>race</th>\n",
       "      <th>ethnicity</th>\n",
       "      <th>sex</th>\n",
       "      <th>age</th>\n",
       "      <th>weight_kilograms</th>\n",
       "      <th>height_centimeters</th>\n",
       "      <th>bmi_kg/m^2</th>\n",
       "      <th>laterality</th>\n",
       "      <th>percent_cortex</th>\n",
       "      <th>percent_medulla</th>\n",
       "    </tr>\n",
       "  </thead>\n",
       "  <tbody>\n",
       "    <tr>\n",
       "      <th>0</th>\n",
       "      <td>aa05346ff.tiff</td>\n",
       "      <td>47340</td>\n",
       "      <td>30720</td>\n",
       "      <td>aa05346ff-anatomical-structure.json</td>\n",
       "      <td>aa05346ff.json</td>\n",
       "      <td>67347</td>\n",
       "      <td>White</td>\n",
       "      <td>Not Hispanic or Latino</td>\n",
       "      <td>Female</td>\n",
       "      <td>58</td>\n",
       "      <td>59.0</td>\n",
       "      <td>160.0</td>\n",
       "      <td>23.0</td>\n",
       "      <td>Right</td>\n",
       "      <td>80</td>\n",
       "      <td>20</td>\n",
       "    </tr>\n",
       "    <tr>\n",
       "      <th>1</th>\n",
       "      <td>afa5e8098.tiff</td>\n",
       "      <td>43780</td>\n",
       "      <td>36800</td>\n",
       "      <td>afa5e8098-anatomical-structure.json</td>\n",
       "      <td>afa5e8098.json</td>\n",
       "      <td>67347</td>\n",
       "      <td>White</td>\n",
       "      <td>Not Hispanic or Latino</td>\n",
       "      <td>Female</td>\n",
       "      <td>58</td>\n",
       "      <td>59.0</td>\n",
       "      <td>160.0</td>\n",
       "      <td>23.0</td>\n",
       "      <td>Right</td>\n",
       "      <td>55</td>\n",
       "      <td>45</td>\n",
       "    </tr>\n",
       "    <tr>\n",
       "      <th>2</th>\n",
       "      <td>54f2eec69.tiff</td>\n",
       "      <td>22240</td>\n",
       "      <td>30440</td>\n",
       "      <td>54f2eec69-anatomical-structure.json</td>\n",
       "      <td>54f2eec69.json</td>\n",
       "      <td>67548</td>\n",
       "      <td>Black or African American</td>\n",
       "      <td>Not Hispanic or Latino</td>\n",
       "      <td>Male</td>\n",
       "      <td>58</td>\n",
       "      <td>79.9</td>\n",
       "      <td>190.5</td>\n",
       "      <td>22.0</td>\n",
       "      <td>Right</td>\n",
       "      <td>75</td>\n",
       "      <td>25</td>\n",
       "    </tr>\n",
       "    <tr>\n",
       "      <th>3</th>\n",
       "      <td>d488c759a.tiff</td>\n",
       "      <td>29020</td>\n",
       "      <td>46660</td>\n",
       "      <td>d488c759a-anatomical-structure.json</td>\n",
       "      <td>d488c759a.json</td>\n",
       "      <td>68138</td>\n",
       "      <td>White</td>\n",
       "      <td>Not Hispanic or Latino</td>\n",
       "      <td>Female</td>\n",
       "      <td>66</td>\n",
       "      <td>81.5</td>\n",
       "      <td>158.8</td>\n",
       "      <td>32.2</td>\n",
       "      <td>Left</td>\n",
       "      <td>100</td>\n",
       "      <td>0</td>\n",
       "    </tr>\n",
       "    <tr>\n",
       "      <th>4</th>\n",
       "      <td>1e2425f28.tiff</td>\n",
       "      <td>32220</td>\n",
       "      <td>26780</td>\n",
       "      <td>1e2425f28-anatomical-structure.json</td>\n",
       "      <td>1e2425f28.json</td>\n",
       "      <td>63921</td>\n",
       "      <td>White</td>\n",
       "      <td>Not Hispanic or Latino</td>\n",
       "      <td>Male</td>\n",
       "      <td>48</td>\n",
       "      <td>131.5</td>\n",
       "      <td>193.0</td>\n",
       "      <td>35.3</td>\n",
       "      <td>Right</td>\n",
       "      <td>65</td>\n",
       "      <td>35</td>\n",
       "    </tr>\n",
       "  </tbody>\n",
       "</table>\n",
       "</div>"
      ],
      "text/plain": [
       "       image_file  width_pixels  height_pixels  \\\n",
       "0  aa05346ff.tiff         47340          30720   \n",
       "1  afa5e8098.tiff         43780          36800   \n",
       "2  54f2eec69.tiff         22240          30440   \n",
       "3  d488c759a.tiff         29020          46660   \n",
       "4  1e2425f28.tiff         32220          26780   \n",
       "\n",
       "  anatomical_structures_segmention_file glomerulus_segmentation_file  \\\n",
       "0   aa05346ff-anatomical-structure.json               aa05346ff.json   \n",
       "1   afa5e8098-anatomical-structure.json               afa5e8098.json   \n",
       "2   54f2eec69-anatomical-structure.json               54f2eec69.json   \n",
       "3   d488c759a-anatomical-structure.json               d488c759a.json   \n",
       "4   1e2425f28-anatomical-structure.json               1e2425f28.json   \n",
       "\n",
       "   patient_number                       race               ethnicity     sex  \\\n",
       "0           67347                      White  Not Hispanic or Latino  Female   \n",
       "1           67347                      White  Not Hispanic or Latino  Female   \n",
       "2           67548  Black or African American  Not Hispanic or Latino    Male   \n",
       "3           68138                      White  Not Hispanic or Latino  Female   \n",
       "4           63921                      White  Not Hispanic or Latino    Male   \n",
       "\n",
       "   age  weight_kilograms  height_centimeters  bmi_kg/m^2 laterality  \\\n",
       "0   58              59.0               160.0        23.0      Right   \n",
       "1   58              59.0               160.0        23.0      Right   \n",
       "2   58              79.9               190.5        22.0      Right   \n",
       "3   66              81.5               158.8        32.2       Left   \n",
       "4   48             131.5               193.0        35.3      Right   \n",
       "\n",
       "   percent_cortex  percent_medulla  \n",
       "0              80               20  \n",
       "1              55               45  \n",
       "2              75               25  \n",
       "3             100                0  \n",
       "4              65               35  "
      ]
     },
     "execution_count": 4,
     "metadata": {},
     "output_type": "execute_result"
    }
   ],
   "source": [
    "train_patient_data = pd.read_csv('data/HuBMAP-20-dataset_information.csv')\n",
    "train_patient_data.head(5)"
   ]
  },
  {
   "cell_type": "markdown",
   "id": "eda0e117",
   "metadata": {},
   "source": [
    "This dataframe holds infomration about the size of the image as well as data from the patient like heigth, weight, sex, etc. There is some redundant information like the name of the files, that can be derived from the sample id. I will merge this dataframe and train_segmentation. "
   ]
  },
  {
   "cell_type": "code",
   "execution_count": 5,
   "id": "671c2f76",
   "metadata": {
    "ExecuteTime": {
     "end_time": "2021-12-23T00:06:49.059510Z",
     "start_time": "2021-12-23T00:06:49.055620Z"
    }
   },
   "outputs": [],
   "source": [
    "# Add a column for the sample id in train_patient_data\n",
    "train_patient_data['sample_id'] = train_patient_data.image_file.apply(lambda x: x.split('.')[0])"
   ]
  },
  {
   "cell_type": "code",
   "execution_count": 6,
   "id": "38d14aae",
   "metadata": {
    "ExecuteTime": {
     "end_time": "2021-12-23T00:06:49.180940Z",
     "start_time": "2021-12-23T00:06:49.143447Z"
    }
   },
   "outputs": [],
   "source": [
    "# Merge train_segmentation and train_patient_data using the sample id columns\n",
    "train = pd.merge(train_segmentation, train_patient_data, left_on='id', right_on='sample_id')\n",
    "\n",
    "# Remove non desired columns\n",
    "train = train.drop(['id', 'image_file', 'anatomical_structures_segmention_file',\n",
    "            'glomerulus_segmentation_file', 'patient_number', 'encoding'], axis=1)\n",
    "\n",
    "# format column names\n",
    "train.columns = ['width_pixels', 'height_pixels', 'race', 'ethnicity', 'sex',\n",
    "       'age', 'weight', 'height', 'bmi', 'laterality', 'percent_cortex',\n",
    "                 'percent_medulla', 'sample_id']"
   ]
  },
  {
   "cell_type": "markdown",
   "id": "7b81bab8",
   "metadata": {},
   "source": [
    "## Save Images"
   ]
  },
  {
   "cell_type": "code",
   "execution_count": 21,
   "id": "06e0f5d3",
   "metadata": {
    "ExecuteTime": {
     "end_time": "2021-12-18T20:10:04.053062Z",
     "start_time": "2021-12-18T20:10:04.041330Z"
    }
   },
   "outputs": [],
   "source": [
    "defective_images = ['e79de561c','54f2eec69']"
   ]
  },
  {
   "cell_type": "code",
   "execution_count": 40,
   "id": "e049c1df",
   "metadata": {
    "ExecuteTime": {
     "end_time": "2021-12-19T22:11:43.684861Z",
     "start_time": "2021-12-19T20:23:21.737887Z"
    },
    "scrolled": false
   },
   "outputs": [
    {
     "data": {
      "application/vnd.jupyter.widget-view+json": {
       "model_id": "643a17969c2d4cb5bfc50d427bcfe0b4",
       "version_major": 2,
       "version_minor": 0
      },
      "text/plain": [
       "  0%|          | 0/15 [00:00<?, ?it/s]"
      ]
     },
     "metadata": {},
     "output_type": "display_data"
    },
    {
     "name": "stdout",
     "output_type": "stream",
     "text": [
      "2f6ecfcdf\n"
     ]
    },
    {
     "name": "stderr",
     "output_type": "stream",
     "text": [
      "/home/adri/anaconda3/envs/hubmap/lib/python3.9/site-packages/rasterio/__init__.py:220: NotGeoreferencedWarning: Dataset has no geotransform, gcps, or rpcs. The identity matrix be returned.\n",
      "  s = DatasetReader(path, driver=driver, sharing=sharing, **kwargs)\n"
     ]
    },
    {
     "data": {
      "application/vnd.jupyter.widget-view+json": {
       "model_id": "185bc0ed89e1477daf70f1c8368961da",
       "version_major": 2,
       "version_minor": 0
      },
      "text/plain": [
       "  0%|          | 0/3000 [00:00<?, ?it/s]"
      ]
     },
     "metadata": {},
     "output_type": "display_data"
    },
    {
     "name": "stdout",
     "output_type": "stream",
     "text": [
      "8242609fa\n"
     ]
    },
    {
     "data": {
      "application/vnd.jupyter.widget-view+json": {
       "model_id": "a2045ddc39ec47819a28a5871f03bf90",
       "version_major": 2,
       "version_minor": 0
      },
      "text/plain": [
       "  0%|          | 0/3000 [00:00<?, ?it/s]"
      ]
     },
     "metadata": {},
     "output_type": "display_data"
    },
    {
     "name": "stdout",
     "output_type": "stream",
     "text": [
      "aaa6a05cc\n"
     ]
    },
    {
     "name": "stderr",
     "output_type": "stream",
     "text": [
      "/home/adri/Documents/projects/kaggle/hubmap/utilities.py:37: VisibleDeprecationWarning: Creating an ndarray from ragged nested sequences (which is a list-or-tuple of lists-or-tuples-or ndarrays with different lengths or shapes) is deprecated. If you meant to do this, you must specify 'dtype=object' when creating the ndarray.\n",
      "  polygon = np.array(cd['geometry']['coordinates']).reshape(-1, 2)\n"
     ]
    },
    {
     "data": {
      "application/vnd.jupyter.widget-view+json": {
       "model_id": "993e2108601c4227997f413d22caa39b",
       "version_major": 2,
       "version_minor": 0
      },
      "text/plain": [
       "  0%|          | 0/3000 [00:00<?, ?it/s]"
      ]
     },
     "metadata": {},
     "output_type": "display_data"
    },
    {
     "name": "stdout",
     "output_type": "stream",
     "text": [
      "cb2d976f4\n"
     ]
    },
    {
     "data": {
      "application/vnd.jupyter.widget-view+json": {
       "model_id": "494afae0e66d4a4f8db9e55e81c2b228",
       "version_major": 2,
       "version_minor": 0
      },
      "text/plain": [
       "  0%|          | 0/3000 [00:00<?, ?it/s]"
      ]
     },
     "metadata": {},
     "output_type": "display_data"
    },
    {
     "name": "stdout",
     "output_type": "stream",
     "text": [
      "b9a3865fc\n"
     ]
    },
    {
     "data": {
      "application/vnd.jupyter.widget-view+json": {
       "model_id": "577ff5eb9f024775a3c20c697b2c5158",
       "version_major": 2,
       "version_minor": 0
      },
      "text/plain": [
       "  0%|          | 0/3000 [00:00<?, ?it/s]"
      ]
     },
     "metadata": {},
     "output_type": "display_data"
    },
    {
     "name": "stdout",
     "output_type": "stream",
     "text": [
      "b2dc8411c\n"
     ]
    },
    {
     "data": {
      "application/vnd.jupyter.widget-view+json": {
       "model_id": "c2d29d1c3bb24156bf500c1457c2d06f",
       "version_major": 2,
       "version_minor": 0
      },
      "text/plain": [
       "  0%|          | 0/3000 [00:00<?, ?it/s]"
      ]
     },
     "metadata": {},
     "output_type": "display_data"
    },
    {
     "name": "stdout",
     "output_type": "stream",
     "text": [
      "0486052bb\n"
     ]
    },
    {
     "data": {
      "application/vnd.jupyter.widget-view+json": {
       "model_id": "eee1bf33a820491088612f4b5609d9fe",
       "version_major": 2,
       "version_minor": 0
      },
      "text/plain": [
       "  0%|          | 0/3000 [00:00<?, ?it/s]"
      ]
     },
     "metadata": {},
     "output_type": "display_data"
    },
    {
     "name": "stdout",
     "output_type": "stream",
     "text": [
      "095bf7a1f\n"
     ]
    },
    {
     "data": {
      "application/vnd.jupyter.widget-view+json": {
       "model_id": "6fc5aad8f5d14bd8948e3477a41488d9",
       "version_major": 2,
       "version_minor": 0
      },
      "text/plain": [
       "  0%|          | 0/3000 [00:00<?, ?it/s]"
      ]
     },
     "metadata": {},
     "output_type": "display_data"
    },
    {
     "name": "stdout",
     "output_type": "stream",
     "text": [
      "4ef6695ce\n"
     ]
    },
    {
     "data": {
      "application/vnd.jupyter.widget-view+json": {
       "model_id": "2e9abc5de25d405e8f2d09b50e9f8311",
       "version_major": 2,
       "version_minor": 0
      },
      "text/plain": [
       "  0%|          | 0/3000 [00:00<?, ?it/s]"
      ]
     },
     "metadata": {},
     "output_type": "display_data"
    },
    {
     "name": "stdout",
     "output_type": "stream",
     "text": [
      "26dc41664\n"
     ]
    },
    {
     "data": {
      "application/vnd.jupyter.widget-view+json": {
       "model_id": "03ce5fc825c245eea218f7049e7ec795",
       "version_major": 2,
       "version_minor": 0
      },
      "text/plain": [
       "  0%|          | 0/3000 [00:00<?, ?it/s]"
      ]
     },
     "metadata": {},
     "output_type": "display_data"
    },
    {
     "name": "stdout",
     "output_type": "stream",
     "text": [
      "c68fe75ea\n"
     ]
    },
    {
     "data": {
      "application/vnd.jupyter.widget-view+json": {
       "model_id": "6fae6dca21744aab81e78d0a94c6d963",
       "version_major": 2,
       "version_minor": 0
      },
      "text/plain": [
       "  0%|          | 0/3000 [00:00<?, ?it/s]"
      ]
     },
     "metadata": {},
     "output_type": "display_data"
    },
    {
     "name": "stdout",
     "output_type": "stream",
     "text": [
      "afa5e8098\n"
     ]
    },
    {
     "data": {
      "application/vnd.jupyter.widget-view+json": {
       "model_id": "b2ad8df72bf844959539583effa0c154",
       "version_major": 2,
       "version_minor": 0
      },
      "text/plain": [
       "  0%|          | 0/3000 [00:00<?, ?it/s]"
      ]
     },
     "metadata": {},
     "output_type": "display_data"
    },
    {
     "name": "stdout",
     "output_type": "stream",
     "text": [
      "1e2425f28\n"
     ]
    },
    {
     "data": {
      "application/vnd.jupyter.widget-view+json": {
       "model_id": "baa61fbffbdf4cc3b4cb47baa914a322",
       "version_major": 2,
       "version_minor": 0
      },
      "text/plain": [
       "  0%|          | 0/3000 [00:00<?, ?it/s]"
      ]
     },
     "metadata": {},
     "output_type": "display_data"
    }
   ],
   "source": [
    "size=1000\n",
    "out_shape=(250, 250)\n",
    "\n",
    "for sample_id in tqdm(train.sample_id):\n",
    "    if sample_id in defective_images:\n",
    "        continue\n",
    "    \n",
    "    # Get the path of the image of the smaple\n",
    "    path = glob(f\"data/train/{sample_id}.tiff\")[0]\n",
    "    with rasterio.open(path) as src:\n",
    "            shape = src.shape\n",
    "\n",
    "\n",
    "    print(sample_id)\n",
    "    cortex_mask = get_mask(sample_id, 'cortex', train, out_shape=out_shape)\n",
    "    glom_mask = get_mask(sample_id, 'glom', train, out_shape=out_shape)\n",
    "\n",
    "    cortex_mask = cortex_mask.astype(int)\n",
    "    cortex_mask[glom_mask] = 2\n",
    "    \n",
    "    cortex_pixels = np.stack(np.where(cortex_mask))\n",
    "    \n",
    "#     plt.imshow(cortex_mask)\n",
    "#     plt.show()\n",
    "\n",
    "    for i in tqdm(range(3000)):\n",
    "        r_point = cortex_pixels[:, np.random.choice(np.arange(cortex_pixels.shape[1]))]\n",
    "        t0, t1 = r_point\n",
    "        \n",
    "        # Load the image\n",
    "        with rasterio.open(path) as src:\n",
    "            shape = src.shape\n",
    "            scaled_point = r_point/np.array(out_shape)*shape\n",
    "            \n",
    "            r0, r1 = scaled_point\n",
    "            \n",
    "            \n",
    "            w = ((r0-size//2, r0+size//2), (r1-size//2, r1+size//2))\n",
    "            glom_window = get_mask(sample_id, 'glom', train, out_shape=out_shape, window=w)\n",
    "            glom_window = (glom_window*255).astype(int)\n",
    "            sample_image = src.read(window = w, out_shape=out_shape)\n",
    "            # Move first chanel axis from the first to the last position and normalize it\n",
    "            sample_image = np.moveaxis(sample_image, 0, -1)\n",
    "\n",
    "            if sample_image.shape[-1] == 3:\n",
    "                sample_image = color.rgb2gray(sample_image)\n",
    "            sample_image = (sample_image*255).astype(int)\n",
    "                \n",
    "            \n",
    "            cv2.imwrite(f'data/processed/{sample_id}_{i}_image.jpg', sample_image)\n",
    "            cv2.imwrite(f'data/processed/{sample_id}_{i}_mask.jpg', glom_window)\n",
    "            \n",
    "                \n",
    "#             plt.subplot(1,2,1)\n",
    "#             plt.imshow(glom_window)\n",
    "#             plt.axis('off')\n",
    "#             plt.subplot(1,2,2)\n",
    "\n",
    "#             plt.imshow(sample_image)\n",
    "#             plt.axis('off')\n",
    "#             plt.show()\n",
    "\n"
   ]
  },
  {
   "cell_type": "markdown",
   "id": "0fc253ef",
   "metadata": {},
   "source": [
    "## Generate tfrecords"
   ]
  },
  {
   "cell_type": "code",
   "execution_count": 8,
   "id": "db5b27f8",
   "metadata": {
    "ExecuteTime": {
     "end_time": "2021-12-23T00:07:15.044702Z",
     "start_time": "2021-12-23T00:07:14.779683Z"
    }
   },
   "outputs": [
    {
     "data": {
      "text/plain": [
       "id\n",
       "0486052bb    6000\n",
       "095bf7a1f    6000\n",
       "1e2425f28    6000\n",
       "26dc41664    6000\n",
       "2f6ecfcdf    6000\n",
       "4ef6695ce    6000\n",
       "8242609fa    6000\n",
       "aaa6a05cc    6000\n",
       "afa5e8098    6000\n",
       "b2dc8411c    6000\n",
       "b9a3865fc    6000\n",
       "c68fe75ea    6000\n",
       "cb2d976f4    6000\n",
       "Name: wid, dtype: int64"
      ]
     },
     "execution_count": 8,
     "metadata": {},
     "output_type": "execute_result"
    }
   ],
   "source": [
    "# Count the number of images generated per image_id\n",
    "im_list = glob('data/processed/*')\n",
    "\n",
    "file_list = pd.DataFrame([im.split('/')[-1].split('_')[:2] for im in im_list],\n",
    "                         columns=['id', 'wid'])\n",
    "\n",
    "file_list.groupby('id').wid.count()"
   ]
  },
  {
   "cell_type": "code",
   "execution_count": 9,
   "id": "67b23c52",
   "metadata": {
    "ExecuteTime": {
     "end_time": "2021-12-23T00:07:15.193788Z",
     "start_time": "2021-12-23T00:07:15.190470Z"
    }
   },
   "outputs": [],
   "source": [
    "def serialize_example(image, mask):\n",
    "\n",
    "    feature = {\n",
    "        'image': tf.train.Feature(bytes_list=tf.train.BytesList(value=[image])),\n",
    "        'mask': tf.train.Feature(bytes_list=tf.train.BytesList(value=[mask]))\n",
    "    }\n",
    "\n",
    "    example_proto = tf.train.Example(\n",
    "        features=tf.train.Features(feature=feature))\n",
    "    return example_proto.SerializeToString()"
   ]
  },
  {
   "cell_type": "code",
   "execution_count": 13,
   "id": "eee369bd",
   "metadata": {
    "ExecuteTime": {
     "end_time": "2021-12-23T00:09:15.690637Z",
     "start_time": "2021-12-23T00:09:15.683310Z"
    }
   },
   "outputs": [],
   "source": [
    "def save_tfrecord(file_base_name, generator):\n",
    "\n",
    "    \n",
    "    counter = 1\n",
    "    \n",
    "    file = f'{file_base_name}_{counter}.tfrecords'\n",
    "    writer = tf.io.TFRecordWriter(file)\n",
    "    \n",
    "    for im_path, mask_path in generator:\n",
    "        \n",
    "        image_string = open(im_path, 'rb').read()\n",
    "        mask_string = open(mask_path, 'rb').read()\n",
    "        \n",
    "        tf_example = serialize_example(image_string, mask_string)\n",
    "        writer.write(tf_example)\n",
    "\n",
    "        b = os.path.getsize(file)*1e-6\n",
    "        if b > 100:\n",
    "            counter += 1\n",
    "            writer.close()\n",
    "            \n",
    "            file = f'{file_base_name}_{counter}.tfrecords'\n",
    "            writer = tf.io.TFRecordWriter(file)\n",
    "            \n",
    "    writer.close()\n"
   ]
  },
  {
   "cell_type": "code",
   "execution_count": 14,
   "id": "a3bb38bb",
   "metadata": {
    "ExecuteTime": {
     "end_time": "2021-12-23T00:09:16.035244Z",
     "start_time": "2021-12-23T00:09:16.027359Z"
    }
   },
   "outputs": [],
   "source": [
    "def data_generator(im_id):\n",
    "    for im_path in tqdm(glob(f'data/processed/{im_id}*image.jpg')):\n",
    "#         print(im_path)\n",
    "        rep_id = im_path.split('/')[-1].split('_')[1]\n",
    "        mask_path = f'data/processed/{im_id}_{rep_id}_mask.jpg'\n",
    "\n",
    "        yield im_path, mask_path"
   ]
  },
  {
   "cell_type": "code",
   "execution_count": 15,
   "id": "48e6dca8",
   "metadata": {
    "ExecuteTime": {
     "end_time": "2021-12-23T00:13:58.180110Z",
     "start_time": "2021-12-23T00:09:16.513601Z"
    }
   },
   "outputs": [
    {
     "data": {
      "application/vnd.jupyter.widget-view+json": {
       "model_id": "670128dd38d245faac9f7016d4f39f83",
       "version_major": 2,
       "version_minor": 0
      },
      "text/plain": [
       "  0%|          | 0/13 [00:00<?, ?it/s]"
      ]
     },
     "metadata": {},
     "output_type": "display_data"
    },
    {
     "data": {
      "application/vnd.jupyter.widget-view+json": {
       "model_id": "ae9da040fea845e992fb7aaad4f17d26",
       "version_major": 2,
       "version_minor": 0
      },
      "text/plain": [
       "  0%|          | 0/3000 [00:00<?, ?it/s]"
      ]
     },
     "metadata": {},
     "output_type": "display_data"
    },
    {
     "data": {
      "application/vnd.jupyter.widget-view+json": {
       "model_id": "07813be0e0014f2a86989db8d4e02f58",
       "version_major": 2,
       "version_minor": 0
      },
      "text/plain": [
       "  0%|          | 0/3000 [00:00<?, ?it/s]"
      ]
     },
     "metadata": {},
     "output_type": "display_data"
    },
    {
     "data": {
      "application/vnd.jupyter.widget-view+json": {
       "model_id": "733ecc20935b4394a45535a2da7dd87b",
       "version_major": 2,
       "version_minor": 0
      },
      "text/plain": [
       "  0%|          | 0/3000 [00:00<?, ?it/s]"
      ]
     },
     "metadata": {},
     "output_type": "display_data"
    },
    {
     "data": {
      "application/vnd.jupyter.widget-view+json": {
       "model_id": "1c73f4aa8aed48c49b209492949c37c4",
       "version_major": 2,
       "version_minor": 0
      },
      "text/plain": [
       "  0%|          | 0/3000 [00:00<?, ?it/s]"
      ]
     },
     "metadata": {},
     "output_type": "display_data"
    },
    {
     "data": {
      "application/vnd.jupyter.widget-view+json": {
       "model_id": "7b60e7390a1149d3bdfc3487fc09c5e6",
       "version_major": 2,
       "version_minor": 0
      },
      "text/plain": [
       "  0%|          | 0/3000 [00:00<?, ?it/s]"
      ]
     },
     "metadata": {},
     "output_type": "display_data"
    },
    {
     "data": {
      "application/vnd.jupyter.widget-view+json": {
       "model_id": "c9ecfa2111a34fc6ac8a1e6e700e00eb",
       "version_major": 2,
       "version_minor": 0
      },
      "text/plain": [
       "  0%|          | 0/3000 [00:00<?, ?it/s]"
      ]
     },
     "metadata": {},
     "output_type": "display_data"
    },
    {
     "data": {
      "application/vnd.jupyter.widget-view+json": {
       "model_id": "122da9ba8c704d2cbd31a5beb527df59",
       "version_major": 2,
       "version_minor": 0
      },
      "text/plain": [
       "  0%|          | 0/3000 [00:00<?, ?it/s]"
      ]
     },
     "metadata": {},
     "output_type": "display_data"
    },
    {
     "data": {
      "application/vnd.jupyter.widget-view+json": {
       "model_id": "414b202b97db479ca394d691b2d9ef8c",
       "version_major": 2,
       "version_minor": 0
      },
      "text/plain": [
       "  0%|          | 0/3000 [00:00<?, ?it/s]"
      ]
     },
     "metadata": {},
     "output_type": "display_data"
    },
    {
     "data": {
      "application/vnd.jupyter.widget-view+json": {
       "model_id": "7f3dc74eb6f048249e3ee4582fa1d43a",
       "version_major": 2,
       "version_minor": 0
      },
      "text/plain": [
       "  0%|          | 0/3000 [00:00<?, ?it/s]"
      ]
     },
     "metadata": {},
     "output_type": "display_data"
    },
    {
     "data": {
      "application/vnd.jupyter.widget-view+json": {
       "model_id": "ba0cdea38d624f6ab4dc5b665cb8b841",
       "version_major": 2,
       "version_minor": 0
      },
      "text/plain": [
       "  0%|          | 0/3000 [00:00<?, ?it/s]"
      ]
     },
     "metadata": {},
     "output_type": "display_data"
    },
    {
     "data": {
      "application/vnd.jupyter.widget-view+json": {
       "model_id": "70afb217a38c476db85ab6fd40105fe8",
       "version_major": 2,
       "version_minor": 0
      },
      "text/plain": [
       "  0%|          | 0/3000 [00:00<?, ?it/s]"
      ]
     },
     "metadata": {},
     "output_type": "display_data"
    },
    {
     "data": {
      "application/vnd.jupyter.widget-view+json": {
       "model_id": "5402bc9ca1c84e7082a761aaa1a1f80f",
       "version_major": 2,
       "version_minor": 0
      },
      "text/plain": [
       "  0%|          | 0/3000 [00:00<?, ?it/s]"
      ]
     },
     "metadata": {},
     "output_type": "display_data"
    },
    {
     "data": {
      "application/vnd.jupyter.widget-view+json": {
       "model_id": "5fd6a954e688482791de3e6b101d8de6",
       "version_major": 2,
       "version_minor": 0
      },
      "text/plain": [
       "  0%|          | 0/3000 [00:00<?, ?it/s]"
      ]
     },
     "metadata": {},
     "output_type": "display_data"
    }
   ],
   "source": [
    "for im_id in tqdm(file_list.id.unique()):\n",
    "    \n",
    "    generator = data_generator(im_id)\n",
    "    \n",
    "    save_tfrecord(f'data/tf_records/{im_id}', generator)"
   ]
  },
  {
   "cell_type": "code",
   "execution_count": null,
   "id": "9f6a28c6",
   "metadata": {},
   "outputs": [],
   "source": []
  }
 ],
 "metadata": {
  "kernelspec": {
   "display_name": "Python [conda env:hubmap]",
   "language": "python",
   "name": "conda-env-hubmap-py"
  },
  "language_info": {
   "codemirror_mode": {
    "name": "ipython",
    "version": 3
   },
   "file_extension": ".py",
   "mimetype": "text/x-python",
   "name": "python",
   "nbconvert_exporter": "python",
   "pygments_lexer": "ipython3",
   "version": "3.9.7"
  },
  "toc": {
   "base_numbering": 1,
   "nav_menu": {},
   "number_sections": true,
   "sideBar": true,
   "skip_h1_title": true,
   "title_cell": "Table of Contents",
   "title_sidebar": "Contents",
   "toc_cell": false,
   "toc_position": {
    "height": "calc(100% - 180px)",
    "left": "10px",
    "top": "150px",
    "width": "165px"
   },
   "toc_section_display": true,
   "toc_window_display": true
  },
  "varInspector": {
   "cols": {
    "lenName": 16,
    "lenType": 16,
    "lenVar": 40
   },
   "kernels_config": {
    "python": {
     "delete_cmd_postfix": "",
     "delete_cmd_prefix": "del ",
     "library": "var_list.py",
     "varRefreshCmd": "print(var_dic_list())"
    },
    "r": {
     "delete_cmd_postfix": ") ",
     "delete_cmd_prefix": "rm(",
     "library": "var_list.r",
     "varRefreshCmd": "cat(var_dic_list()) "
    }
   },
   "types_to_exclude": [
    "module",
    "function",
    "builtin_function_or_method",
    "instance",
    "_Feature"
   ],
   "window_display": false
  }
 },
 "nbformat": 4,
 "nbformat_minor": 5
}
