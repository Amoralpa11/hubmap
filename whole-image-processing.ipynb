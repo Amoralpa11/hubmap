{
 "cells": [
  {
   "cell_type": "markdown",
   "metadata": {
    "papermill": {
     "duration": 0.016951,
     "end_time": "2021-03-06T21:17:56.546836",
     "exception": false,
     "start_time": "2021-03-06T21:17:56.529885",
     "status": "completed"
    },
    "tags": []
   },
   "source": [
    "# Whole image processing"
   ]
  },
  {
   "cell_type": "code",
   "execution_count": 1,
   "metadata": {
    "ExecuteTime": {
     "end_time": "2021-03-05T08:16:42.768439Z",
     "start_time": "2021-03-05T08:16:40.737357Z"
    },
    "execution": {
     "iopub.execute_input": "2021-03-06T21:17:56.582223Z",
     "iopub.status.busy": "2021-03-06T21:17:56.581577Z",
     "iopub.status.idle": "2021-03-06T21:18:04.858846Z",
     "shell.execute_reply": "2021-03-06T21:18:04.859438Z"
    },
    "executionInfo": {
     "elapsed": 6550,
     "status": "ok",
     "timestamp": 1614519343728,
     "user": {
      "displayName": "Adrian Morales Pastor",
      "photoUrl": "https://lh3.googleusercontent.com/a-/AOh14GimFGMZM-7_4jcbPc8jE-pL9Ym5UOGJg16ihX8cWA=s64",
      "userId": "18005430464720970937"
     },
     "user_tz": -60
    },
    "id": "9z8Kxk-hd0lU",
    "outputId": "3488d3fe-058f-4dec-c3b4-cc512e376150",
    "papermill": {
     "duration": 8.297099,
     "end_time": "2021-03-06T21:18:04.859827",
     "exception": false,
     "start_time": "2021-03-06T21:17:56.562728",
     "status": "completed"
    },
    "tags": []
   },
   "outputs": [],
   "source": [
    "# General\n",
    "from glob import glob\n",
    "from tqdm.notebook import tqdm\n",
    "import os\n",
    "import json\n",
    "\n",
    "# Data Handling\n",
    "import numpy as np\n",
    "import pandas as pd\n",
    "\n",
    "# Plotting\n",
    "import seaborn as sns\n",
    "import matplotlib.pyplot as plt\n",
    "\n",
    "# Image processing\n",
    "import rasterio\n",
    "from rasterio.windows import Window\n",
    "from skimage.draw import polygon2mask\n",
    "from scipy import ndimage as ndi\n",
    "from skimage.morphology import remove_small_objects\n",
    "\n",
    "# Deep Learning\n",
    "import tensorflow as tf"
   ]
  },
  {
   "cell_type": "code",
   "execution_count": 2,
   "metadata": {
    "ExecuteTime": {
     "end_time": "2021-03-05T08:16:42.7726Z",
     "start_time": "2021-03-05T08:16:42.769889Z"
    },
    "execution": {
     "iopub.execute_input": "2021-03-06T21:18:04.897553Z",
     "iopub.status.busy": "2021-03-06T21:18:04.896907Z",
     "iopub.status.idle": "2021-03-06T21:18:04.900560Z",
     "shell.execute_reply": "2021-03-06T21:18:04.901064Z"
    },
    "papermill": {
     "duration": 0.025388,
     "end_time": "2021-03-06T21:18:04.901255",
     "exception": false,
     "start_time": "2021-03-06T21:18:04.875867",
     "status": "completed"
    },
    "tags": []
   },
   "outputs": [],
   "source": [
    "import resource"
   ]
  },
  {
   "cell_type": "code",
   "execution_count": 3,
   "metadata": {
    "ExecuteTime": {
     "end_time": "2021-03-05T08:16:42.875578Z",
     "start_time": "2021-03-05T08:16:42.774985Z"
    },
    "execution": {
     "iopub.execute_input": "2021-03-06T21:18:04.939123Z",
     "iopub.status.busy": "2021-03-06T21:18:04.938479Z",
     "iopub.status.idle": "2021-03-06T21:18:04.942027Z",
     "shell.execute_reply": "2021-03-06T21:18:04.941551Z"
    },
    "papermill": {
     "duration": 0.02521,
     "end_time": "2021-03-06T21:18:04.942178",
     "exception": false,
     "start_time": "2021-03-06T21:18:04.916968",
     "status": "completed"
    },
    "tags": []
   },
   "outputs": [],
   "source": [
    "cwd = os.getcwd()\n",
    "\n",
    "if cwd == '/kaggle/working':\n",
    "    base = \"../input/\"\n",
    "else:\n",
    "    base = \"./\""
   ]
  },
  {
   "cell_type": "code",
   "execution_count": 4,
   "metadata": {
    "ExecuteTime": {
     "end_time": "2021-03-05T08:16:42.939112Z",
     "start_time": "2021-03-05T08:16:42.882618Z"
    },
    "execution": {
     "iopub.execute_input": "2021-03-06T21:18:04.981486Z",
     "iopub.status.busy": "2021-03-06T21:18:04.980816Z",
     "iopub.status.idle": "2021-03-06T21:18:04.984369Z",
     "shell.execute_reply": "2021-03-06T21:18:04.983861Z"
    },
    "papermill": {
     "duration": 0.026461,
     "end_time": "2021-03-06T21:18:04.984518",
     "exception": false,
     "start_time": "2021-03-06T21:18:04.958057",
     "status": "completed"
    },
    "tags": []
   },
   "outputs": [],
   "source": [
    "def get_memory():\n",
    "    with open('/proc/meminfo', 'r') as mem:\n",
    "        free_memory = 0\n",
    "        for i in mem:\n",
    "            sline = i.split()\n",
    "            if str(sline[0]) in ('MemFree:', 'Buffers:', 'Cached:'):\n",
    "                free_memory += int(sline[1])\n",
    "    return free_memory"
   ]
  },
  {
   "cell_type": "code",
   "execution_count": 5,
   "metadata": {
    "ExecuteTime": {
     "end_time": "2021-03-05T08:17:33.023418Z",
     "start_time": "2021-03-05T08:17:33.019359Z"
    },
    "execution": {
     "iopub.execute_input": "2021-03-06T21:18:05.024077Z",
     "iopub.status.busy": "2021-03-06T21:18:05.023400Z",
     "iopub.status.idle": "2021-03-06T21:18:05.026297Z",
     "shell.execute_reply": "2021-03-06T21:18:05.025769Z"
    },
    "papermill": {
     "duration": 0.025427,
     "end_time": "2021-03-06T21:18:05.026470",
     "exception": false,
     "start_time": "2021-03-06T21:18:05.001043",
     "status": "completed"
    },
    "tags": []
   },
   "outputs": [],
   "source": [
    "if base == \"./\":\n",
    "    soft, hard = resource.getrlimit(resource.RLIMIT_AS)\n",
    "    resource.setrlimit(resource.RLIMIT_AS, (get_memory() * 1024 / 4*3, hard))"
   ]
  },
  {
   "cell_type": "markdown",
   "metadata": {
    "papermill": {
     "duration": 0.016573,
     "end_time": "2021-03-06T21:18:05.061389",
     "exception": false,
     "start_time": "2021-03-06T21:18:05.044816",
     "status": "completed"
    },
    "tags": []
   },
   "source": [
    "## Load Model"
   ]
  },
  {
   "cell_type": "code",
   "execution_count": 6,
   "metadata": {
    "ExecuteTime": {
     "end_time": "2021-03-05T08:17:37.523951Z",
     "start_time": "2021-03-05T08:17:33.025142Z"
    },
    "execution": {
     "iopub.execute_input": "2021-03-06T21:18:05.100121Z",
     "iopub.status.busy": "2021-03-06T21:18:05.099445Z",
     "iopub.status.idle": "2021-03-06T21:18:21.752499Z",
     "shell.execute_reply": "2021-03-06T21:18:21.753038Z"
    },
    "papermill": {
     "duration": 16.675097,
     "end_time": "2021-03-06T21:18:21.753288",
     "exception": false,
     "start_time": "2021-03-06T21:18:05.078191",
     "status": "completed"
    },
    "tags": []
   },
   "outputs": [],
   "source": [
    "generator = tf.keras.models.load_model(f'{base}hubmap-generator/generator/', compile=False, )"
   ]
  },
  {
   "cell_type": "code",
   "execution_count": 7,
   "metadata": {
    "ExecuteTime": {
     "end_time": "2021-03-05T08:17:37.546536Z",
     "start_time": "2021-03-05T08:17:37.537735Z"
    },
    "execution": {
     "iopub.execute_input": "2021-03-06T21:18:21.790978Z",
     "iopub.status.busy": "2021-03-06T21:18:21.790323Z",
     "iopub.status.idle": "2021-03-06T21:18:21.811459Z",
     "shell.execute_reply": "2021-03-06T21:18:21.812052Z"
    },
    "papermill": {
     "duration": 0.042005,
     "end_time": "2021-03-06T21:18:21.812295",
     "exception": false,
     "start_time": "2021-03-06T21:18:21.770290",
     "status": "completed"
    },
    "tags": []
   },
   "outputs": [],
   "source": [
    "info_df = pd.read_csv(f'{base}hubmap-kidney-segmentation/HuBMAP-20-dataset_information.csv')"
   ]
  },
  {
   "cell_type": "markdown",
   "metadata": {
    "id": "KhGNuR5owKpD",
    "papermill": {
     "duration": 0.017421,
     "end_time": "2021-03-06T21:18:21.847137",
     "exception": false,
     "start_time": "2021-03-06T21:18:21.829716",
     "status": "completed"
    },
    "tags": []
   },
   "source": [
    "## Test image prediction"
   ]
  },
  {
   "cell_type": "markdown",
   "metadata": {
    "papermill": {
     "duration": 0.016171,
     "end_time": "2021-03-06T21:18:21.879843",
     "exception": false,
     "start_time": "2021-03-06T21:18:21.863672",
     "status": "completed"
    },
    "tags": []
   },
   "source": [
    "###  Helper functions"
   ]
  },
  {
   "cell_type": "code",
   "execution_count": 8,
   "metadata": {
    "ExecuteTime": {
     "end_time": "2021-03-05T08:17:37.675343Z",
     "start_time": "2021-03-05T08:17:37.548145Z"
    },
    "execution": {
     "iopub.execute_input": "2021-03-06T21:18:21.918907Z",
     "iopub.status.busy": "2021-03-06T21:18:21.918160Z",
     "iopub.status.idle": "2021-03-06T21:18:21.924411Z",
     "shell.execute_reply": "2021-03-06T21:18:21.924930Z"
    },
    "papermill": {
     "duration": 0.028625,
     "end_time": "2021-03-06T21:18:21.925116",
     "exception": false,
     "start_time": "2021-03-06T21:18:21.896491",
     "status": "completed"
    },
    "tags": []
   },
   "outputs": [],
   "source": [
    "def dice_coef(a, b):\n",
    "    \n",
    "    intersection = a & b\n",
    "    \n",
    "    int_sum = (a & b).sum()\n",
    "    \n",
    "    return int_sum*2/(a.sum()+b.sum())"
   ]
  },
  {
   "cell_type": "code",
   "execution_count": 9,
   "metadata": {
    "ExecuteTime": {
     "end_time": "2021-03-05T08:17:37.742242Z",
     "start_time": "2021-03-05T08:17:37.677434Z"
    },
    "execution": {
     "iopub.execute_input": "2021-03-06T21:18:21.969281Z",
     "iopub.status.busy": "2021-03-06T21:18:21.968564Z",
     "iopub.status.idle": "2021-03-06T21:18:21.971358Z",
     "shell.execute_reply": "2021-03-06T21:18:21.971856Z"
    },
    "papermill": {
     "duration": 0.030234,
     "end_time": "2021-03-06T21:18:21.972055",
     "exception": false,
     "start_time": "2021-03-06T21:18:21.941821",
     "status": "completed"
    },
    "tags": []
   },
   "outputs": [],
   "source": [
    "def get_mask(image_id, window=None, out_shape=None):\n",
    "\n",
    "    w, h = info_df[info_df.image_file == image_id +\n",
    "                   '.tiff'][['width_pixels', 'height_pixels']].values.flatten()\n",
    "    \n",
    "    mask = np.zeros((w*h,), dtype=bool)\n",
    "\n",
    "    for i, row in train_df[train_df.id == image_id].iterrows():\n",
    "        start = row.start\n",
    "        mask[start] = 1\n",
    "\n",
    "        for j in range(row.run):\n",
    "            start += 1\n",
    "            mask[start] = 1\n",
    "\n",
    "    mask = mask.reshape(w, h).transpose()\n",
    "    \n",
    "    if window:\n",
    "        min_y, max_y, min_x, max_x = window\n",
    "        mask = mask[min_y:max_y, min_x:max_x]\n",
    "    \n",
    "    if out_shape:\n",
    "        mask = array_resize(mask, out_shape)\n",
    "    \n",
    "    return mask"
   ]
  },
  {
   "cell_type": "code",
   "execution_count": 10,
   "metadata": {
    "ExecuteTime": {
     "end_time": "2021-03-05T08:17:37.808364Z",
     "start_time": "2021-03-05T08:17:37.743888Z"
    },
    "execution": {
     "iopub.execute_input": "2021-03-06T21:18:22.011351Z",
     "iopub.status.busy": "2021-03-06T21:18:22.010646Z",
     "iopub.status.idle": "2021-03-06T21:18:22.016409Z",
     "shell.execute_reply": "2021-03-06T21:18:22.016907Z"
    },
    "papermill": {
     "duration": 0.027519,
     "end_time": "2021-03-06T21:18:22.017103",
     "exception": false,
     "start_time": "2021-03-06T21:18:21.989584",
     "status": "completed"
    },
    "tags": []
   },
   "outputs": [],
   "source": [
    "def array_resize(array, out_shape):\n",
    "    h, w = out_shape\n",
    "\n",
    "    row_idx = np.round(np.linspace(0, array.shape[0]-1, h)).astype(int)\n",
    "    col_idx = np.round(np.linspace(0, array.shape[1]-1, w)).astype(int)\n",
    "\n",
    "    array = array[row_idx][:,col_idx]\n",
    "    \n",
    "    return array"
   ]
  },
  {
   "cell_type": "code",
   "execution_count": 11,
   "metadata": {
    "ExecuteTime": {
     "end_time": "2021-03-05T08:17:39.019727Z",
     "start_time": "2021-03-05T08:17:37.811241Z"
    },
    "execution": {
     "iopub.execute_input": "2021-03-06T21:18:22.056393Z",
     "iopub.status.busy": "2021-03-06T21:18:22.055652Z",
     "iopub.status.idle": "2021-03-06T21:18:22.064136Z",
     "shell.execute_reply": "2021-03-06T21:18:22.064676Z"
    },
    "papermill": {
     "duration": 0.030377,
     "end_time": "2021-03-06T21:18:22.064887",
     "exception": false,
     "start_time": "2021-03-06T21:18:22.034510",
     "status": "completed"
    },
    "tags": []
   },
   "outputs": [],
   "source": [
    "if base == \"./\":\n",
    "    train_df = pd.read_csv('hubmap-kidney-segmentation/train.csv')\n",
    "\n",
    "    # Unroll encoding column\n",
    "    temp_df = pd.DataFrame(columns=['id', 'start', 'run'])\n",
    "    for i, [image_id, encoding] in train_df.iterrows():\n",
    "        new_section = pd.DataFrame(columns=temp_df.columns)\n",
    "        encoding = encoding.split()\n",
    "\n",
    "        start = encoding[::2]\n",
    "        run = encoding[1::2]\n",
    "        encoding = np.array(list(zip(start, run))).astype(int)\n",
    "\n",
    "        new_section['start'] = encoding[:,0]\n",
    "        new_section['run'] = encoding[:,1]\n",
    "        new_section['id'] = image_id\n",
    "\n",
    "        temp_df = temp_df.append(new_section)\n",
    "    train_df = temp_df\n",
    "    del temp_df, new_section"
   ]
  },
  {
   "cell_type": "code",
   "execution_count": 12,
   "metadata": {
    "ExecuteTime": {
     "end_time": "2021-03-05T08:17:39.06189Z",
     "start_time": "2021-03-05T08:17:39.021698Z"
    },
    "execution": {
     "iopub.execute_input": "2021-03-06T21:18:22.103671Z",
     "iopub.status.busy": "2021-03-06T21:18:22.102963Z",
     "iopub.status.idle": "2021-03-06T21:18:22.394514Z",
     "shell.execute_reply": "2021-03-06T21:18:22.395154Z"
    },
    "papermill": {
     "duration": 0.312934,
     "end_time": "2021-03-06T21:18:22.395405",
     "exception": false,
     "start_time": "2021-03-06T21:18:22.082471",
     "status": "completed"
    },
    "tags": []
   },
   "outputs": [],
   "source": [
    "image_data_json = {}\n",
    "\n",
    "for i, row in info_df.iterrows():\n",
    "    image_file = row.image_file\n",
    "    image_id = image_file.split('.')[0]\n",
    "    \n",
    "        \n",
    "    path = glob(f'{base}hubmap-kidney-segmentation/*/{image_id}-anatomical-structure.json')[0]\n",
    "\n",
    "    with open(path, 'r') as json_file:\n",
    "        anat_data = json.load(json_file)\n",
    "        \n",
    "    path = glob(f'{base}hubmap-kidney-segmentation/train/{image_id}.json')\n",
    "    \n",
    "    if path:\n",
    "        \n",
    "        with open(path[0], 'r') as json_file:\n",
    "            glom_data = json.load(json_file)\n",
    "        \n",
    "        image_data_json[image_id] = {'anat': anat_data, 'glom': glom_data}\n",
    "    else:\n",
    "        image_data_json[image_id] = {'anat': anat_data}\n"
   ]
  },
  {
   "cell_type": "code",
   "execution_count": 13,
   "metadata": {
    "ExecuteTime": {
     "end_time": "2021-03-05T08:17:39.169051Z",
     "start_time": "2021-03-05T08:17:39.063054Z"
    },
    "execution": {
     "iopub.execute_input": "2021-03-06T21:18:22.445193Z",
     "iopub.status.busy": "2021-03-06T21:18:22.444404Z",
     "iopub.status.idle": "2021-03-06T21:18:22.448181Z",
     "shell.execute_reply": "2021-03-06T21:18:22.447614Z"
    },
    "papermill": {
     "duration": 0.034364,
     "end_time": "2021-03-06T21:18:22.448383",
     "exception": false,
     "start_time": "2021-03-06T21:18:22.414019",
     "status": "completed"
    },
    "tags": []
   },
   "outputs": [],
   "source": [
    "def get_cortex_mask(image_id, size=None, x_anchor=0, y_anchor=0):\n",
    "    anat_data = image_data_json[image_id]['anat']\n",
    "    \n",
    "    w, h = info_df[info_df.image_file == image_id+'.tiff'][['width_pixels', 'height_pixels' ]].values[0]\n",
    "    \n",
    "    if size:\n",
    "        w = h = size\n",
    "    \n",
    "    \n",
    "    # keep only the cortex information\n",
    "    cortex_data = [tissue for tissue in anat_data if tissue['properties']\n",
    "                   ['classification']['name'] == 'Cortex'][0]\n",
    "    # Extracting polygon vertex\n",
    "    polygon = np.array(cortex_data['geometry']['coordinates']).reshape(-1, 2)\n",
    "    if cortex_data['geometry']['type'] == 'Polygon':\n",
    "        polygon = np.array([polygon])\n",
    "    else:\n",
    "        polygon = np.array([polygon]).reshape(-1)\n",
    "        \n",
    "    cortex_mask_shape = (256,256)\n",
    "    \n",
    "    cortex_mask = np.zeros(cortex_mask_shape, dtype=bool)\n",
    "    \n",
    "    for subpolygon in polygon:\n",
    "        subpolygon = np.array(subpolygon)\n",
    "\n",
    "        subpolygon[:,0] -= x_anchor\n",
    "        subpolygon[:,1] -= y_anchor\n",
    "        \n",
    "        subpolygon[:,0] = subpolygon[:,0]/w*256\n",
    "        subpolygon[:,1] = subpolygon[:,1]/h*256        \n",
    "\n",
    "        cortex_mask = cortex_mask + polygon2mask(cortex_mask_shape, subpolygon[:,::-1])\n",
    "        \n",
    "    return cortex_mask"
   ]
  },
  {
   "cell_type": "code",
   "execution_count": 14,
   "metadata": {
    "ExecuteTime": {
     "end_time": "2021-03-05T08:17:39.254557Z",
     "start_time": "2021-03-05T08:17:39.170959Z"
    },
    "execution": {
     "iopub.execute_input": "2021-03-06T21:18:22.491230Z",
     "iopub.status.busy": "2021-03-06T21:18:22.490540Z",
     "iopub.status.idle": "2021-03-06T21:18:22.494374Z",
     "shell.execute_reply": "2021-03-06T21:18:22.493786Z"
    },
    "papermill": {
     "duration": 0.028528,
     "end_time": "2021-03-06T21:18:22.494535",
     "exception": false,
     "start_time": "2021-03-06T21:18:22.466007",
     "status": "completed"
    },
    "tags": []
   },
   "outputs": [],
   "source": [
    "def get_object_sizes(arr):\n",
    "    selem = ndi.generate_binary_structure(arr.ndim, 2)\n",
    "    ccs = np.zeros_like(arr, dtype=np.int32)\n",
    "    ndi.label(arr, selem, output=ccs)\n",
    "    \n",
    "    component_sizes = np.bincount(ccs.ravel())\n",
    "    return component_sizes"
   ]
  },
  {
   "cell_type": "code",
   "execution_count": 15,
   "metadata": {
    "ExecuteTime": {
     "end_time": "2021-03-05T10:23:43.676188Z",
     "start_time": "2021-03-05T10:23:43.658059Z"
    },
    "execution": {
     "iopub.execute_input": "2021-03-06T21:18:22.537520Z",
     "iopub.status.busy": "2021-03-06T21:18:22.536760Z",
     "iopub.status.idle": "2021-03-06T21:18:22.540659Z",
     "shell.execute_reply": "2021-03-06T21:18:22.540058Z"
    },
    "papermill": {
     "duration": 0.02866,
     "end_time": "2021-03-06T21:18:22.540812",
     "exception": false,
     "start_time": "2021-03-06T21:18:22.512152",
     "status": "completed"
    },
    "tags": []
   },
   "outputs": [],
   "source": [
    "def rl_encoder_generator(arr):\n",
    "    \n",
    "    start = None\n",
    "    counter = 0\n",
    "    for row in arr:\n",
    "        for col in row:\n",
    "            counter += 1\n",
    "            if col:\n",
    "                if start is None:\n",
    "                    start = counter\n",
    "                    run = 1\n",
    "                else:\n",
    "                    run += 1\n",
    "            else:\n",
    "                if start is not None:\n",
    "                    yield start, run\n",
    "                    start = None\n",
    "                    run = 0"
   ]
  },
  {
   "cell_type": "markdown",
   "metadata": {
    "papermill": {
     "duration": 0.017971,
     "end_time": "2021-03-06T21:18:22.577467",
     "exception": false,
     "start_time": "2021-03-06T21:18:22.559496",
     "status": "completed"
    },
    "tags": []
   },
   "source": [
    "### Process Image"
   ]
  },
  {
   "cell_type": "code",
   "execution_count": 16,
   "metadata": {
    "ExecuteTime": {
     "end_time": "2021-03-05T08:17:39.476774Z",
     "start_time": "2021-03-05T08:17:39.381214Z"
    },
    "execution": {
     "iopub.execute_input": "2021-03-06T21:18:22.619735Z",
     "iopub.status.busy": "2021-03-06T21:18:22.618838Z",
     "iopub.status.idle": "2021-03-06T21:18:22.620417Z",
     "shell.execute_reply": "2021-03-06T21:18:22.620943Z"
    },
    "papermill": {
     "duration": 0.025845,
     "end_time": "2021-03-06T21:18:22.621123",
     "exception": false,
     "start_time": "2021-03-06T21:18:22.595278",
     "status": "completed"
    },
    "tags": []
   },
   "outputs": [],
   "source": [
    "n = 20"
   ]
  },
  {
   "cell_type": "code",
   "execution_count": 17,
   "metadata": {
    "ExecuteTime": {
     "end_time": "2021-03-05T08:17:39.555224Z",
     "start_time": "2021-03-05T08:17:39.481338Z"
    },
    "execution": {
     "iopub.execute_input": "2021-03-06T21:18:22.660832Z",
     "iopub.status.busy": "2021-03-06T21:18:22.660140Z",
     "iopub.status.idle": "2021-03-06T21:18:22.676127Z",
     "shell.execute_reply": "2021-03-06T21:18:22.676682Z"
    },
    "papermill": {
     "duration": 0.037745,
     "end_time": "2021-03-06T21:18:22.676868",
     "exception": false,
     "start_time": "2021-03-06T21:18:22.639123",
     "status": "completed"
    },
    "tags": []
   },
   "outputs": [],
   "source": [
    "# Train images\n",
    "train_file_list = glob(f\"{base}hubmap-kidney-segmentation/train/*.tiff\")\n",
    "train_image_id_list = [file.split('/')[-1].split('.')[0] for file in  train_file_list]\n",
    "\n",
    "test_file_list = glob(f\"{base}hubmap-kidney-segmentation/test/*.tiff\")\n",
    "test_image_id_list = [file.split('/')[-1].split('.')[0] for file in  test_file_list]"
   ]
  },
  {
   "cell_type": "code",
   "execution_count": 18,
   "metadata": {
    "ExecuteTime": {
     "end_time": "2021-03-05T08:17:39.634053Z",
     "start_time": "2021-03-05T08:17:39.557797Z"
    },
    "execution": {
     "iopub.execute_input": "2021-03-06T21:18:22.718072Z",
     "iopub.status.busy": "2021-03-06T21:18:22.717352Z",
     "iopub.status.idle": "2021-03-06T21:18:22.722857Z",
     "shell.execute_reply": "2021-03-06T21:18:22.724277Z"
    },
    "papermill": {
     "duration": 0.029674,
     "end_time": "2021-03-06T21:18:22.724499",
     "exception": false,
     "start_time": "2021-03-06T21:18:22.694825",
     "status": "completed"
    },
    "tags": []
   },
   "outputs": [],
   "source": [
    "image_id_list = test_image_id_list"
   ]
  },
  {
   "cell_type": "code",
   "execution_count": 19,
   "metadata": {
    "ExecuteTime": {
     "end_time": "2021-03-05T08:56:06.38602Z",
     "start_time": "2021-03-05T08:43:10.596641Z"
    },
    "execution": {
     "iopub.execute_input": "2021-03-06T21:18:22.785180Z",
     "iopub.status.busy": "2021-03-06T21:18:22.783811Z",
     "iopub.status.idle": "2021-03-06T21:59:16.208111Z",
     "shell.execute_reply": "2021-03-06T21:59:16.207256Z"
    },
    "executionInfo": {
     "elapsed": 2170,
     "status": "ok",
     "timestamp": 1614520507981,
     "user": {
      "displayName": "Adrian Morales Pastor",
      "photoUrl": "https://lh3.googleusercontent.com/a-/AOh14GimFGMZM-7_4jcbPc8jE-pL9Ym5UOGJg16ihX8cWA=s64",
      "userId": "18005430464720970937"
     },
     "user_tz": -60
    },
    "id": "EjOMtrk45w3g",
    "outputId": "8d9f1488-cc2d-4685-b3d6-d9490e65e61e",
    "papermill": {
     "duration": 2453.466243,
     "end_time": "2021-03-06T21:59:16.209582",
     "exception": false,
     "start_time": "2021-03-06T21:18:22.743339",
     "status": "completed"
    },
    "scrolled": false,
    "tags": []
   },
   "outputs": [
    {
     "name": "stderr",
     "output_type": "stream",
     "text": [
      "/opt/conda/lib/python3.7/site-packages/rasterio/__init__.py:207: NotGeoreferencedWarning: Dataset has no geotransform, gcps, or rpcs. The identity matrix be returned.\n",
      "  s = DatasetReader(path, driver=driver, sharing=sharing, **kwargs)\n"
     ]
    },
    {
     "data": {
      "application/vnd.jupyter.widget-view+json": {
       "model_id": "8146673e0b814380a2a47be926129d39",
       "version_major": 2,
       "version_minor": 0
      },
      "text/plain": [
       "  0%|          | 0/20 [00:00<?, ?it/s]"
      ]
     },
     "metadata": {},
     "output_type": "display_data"
    },
    {
     "name": "stdout",
     "output_type": "stream",
     "text": [
      "Removing off-cortext detections\n",
      "RL econding\n"
     ]
    },
    {
     "data": {
      "application/vnd.jupyter.widget-view+json": {
       "model_id": "283f62cd11454de2a3500bfe5f241000",
       "version_major": 2,
       "version_minor": 0
      },
      "text/plain": [
       "  0%|          | 0/21 [00:00<?, ?it/s]"
      ]
     },
     "metadata": {},
     "output_type": "display_data"
    },
    {
     "name": "stdout",
     "output_type": "stream",
     "text": [
      "Removing off-cortext detections\n",
      "RL econding\n"
     ]
    },
    {
     "data": {
      "application/vnd.jupyter.widget-view+json": {
       "model_id": "b48a391d236c4759b5feb42723e5dd3c",
       "version_major": 2,
       "version_minor": 0
      },
      "text/plain": [
       "  0%|          | 0/20 [00:00<?, ?it/s]"
      ]
     },
     "metadata": {},
     "output_type": "display_data"
    },
    {
     "name": "stdout",
     "output_type": "stream",
     "text": [
      "Removing off-cortext detections\n",
      "RL econding\n"
     ]
    },
    {
     "data": {
      "application/vnd.jupyter.widget-view+json": {
       "model_id": "4a713b859e89457c8a5c6272319f4a8f",
       "version_major": 2,
       "version_minor": 0
      },
      "text/plain": [
       "  0%|          | 0/21 [00:00<?, ?it/s]"
      ]
     },
     "metadata": {},
     "output_type": "display_data"
    },
    {
     "name": "stdout",
     "output_type": "stream",
     "text": [
      "Removing off-cortext detections\n",
      "RL econding\n"
     ]
    },
    {
     "data": {
      "application/vnd.jupyter.widget-view+json": {
       "model_id": "a89051c6ca3945ff8a8cbe16f62dc972",
       "version_major": 2,
       "version_minor": 0
      },
      "text/plain": [
       "  0%|          | 0/20 [00:00<?, ?it/s]"
      ]
     },
     "metadata": {},
     "output_type": "display_data"
    },
    {
     "name": "stdout",
     "output_type": "stream",
     "text": [
      "Removing off-cortext detections\n",
      "RL econding\n"
     ]
    }
   ],
   "source": [
    "output_file = open('submission.csv', 'w')\n",
    "output_file.write('id,predicted\\n')\n",
    "\n",
    "for image_id in image_id_list:\n",
    "    \n",
    "    path = glob(f\"{base}hubmap-kidney-segmentation/*/{image_id}.tiff\")[0]\n",
    "    with rasterio.open(path) as src:\n",
    "        \n",
    "        w = src.width\n",
    "        h = src.height\n",
    "        \n",
    "        is_train = image_id in train_image_id_list\n",
    "        if is_train:\n",
    "\n",
    "            thumbnail = src.read(out_shape=(500, int(w/h*500)),\n",
    "                                    resampling=rasterio.enums.Resampling.cubic)\n",
    "\n",
    "            thumbnail = np.moveaxis(thumbnail, 0, -1)\n",
    "            plt.imshow(thumbnail)\n",
    "            plt.show()\n",
    "            del thumbnail\n",
    "\n",
    "        size = min(h, w)//n\n",
    "\n",
    "        x_anchor_list = list(range(0,w-size-1, size))+[w-size]\n",
    "        y_anchor_list = list(range(0,h-size-1, size))+[h-size]\n",
    "\n",
    "        output_mask = np.zeros((h, w), dtype=bool)\n",
    "\n",
    "        for y_anchor in tqdm(y_anchor_list):\n",
    "            for x_anchor in x_anchor_list:        \n",
    "\n",
    "\n",
    "                sample_image = src.read(out_shape=(256, 256),\n",
    "                                        window=Window.from_slices((y_anchor, y_anchor+size),\n",
    "                                                                  (x_anchor, x_anchor+size)),\n",
    "                                        resampling=rasterio.enums.Resampling.cubic)\n",
    "\n",
    "                sample_image = np.moveaxis(sample_image, 0, -1)/255\n",
    "\n",
    "\n",
    "                pred = generator.predict(sample_image[np.newaxis, ...]).reshape(256,256)\n",
    "\n",
    "                # Making pred a boolean mask\n",
    "                pred = pred > 0.5\n",
    "\n",
    "                pred = array_resize(pred, (size, size))\n",
    "\n",
    "                output_mask[y_anchor:y_anchor+size, x_anchor: x_anchor+size] = pred\n",
    "\n",
    "        #         mask = get_mask('aaa6a05cc', window=(y_anchor, y_anchor+size, x_anchor, x_anchor+size), out_shape=(256,256))\n",
    "\n",
    "        #         plt.subplot(1, 3, 1)\n",
    "        #         plt.imshow(sample_image)\n",
    "\n",
    "        #         plt.subplot(1, 3, 2)\n",
    "        #         plt.imshow(pred)\n",
    "\n",
    "        #         plt.subplot(1, 3, 3)\n",
    "        #         plt.imshow(mask)\n",
    "        #         plt.show()\n",
    "    \n",
    "    del pred\n",
    "    \n",
    "    out_shape = (h//10, w//10)\n",
    "    # Reduce image to be able of removing small objects\n",
    "    output_mask = array_resize(output_mask, out_shape)\n",
    "\n",
    "    if is_train:\n",
    "        mask = get_mask(image_id, out_shape=out_shape)\n",
    "        mask_objects = get_object_sizes(mask)\n",
    "    \n",
    "    # Get cortex mask\n",
    "    print(\"Removing off-cortext detections\")\n",
    "    cortex_mask = get_cortex_mask(image_id)\n",
    "    cortex_mask = ~cortex_mask\n",
    "    cortex_mask = array_resize(cortex_mask, out_shape)\n",
    "    \n",
    "    # Delete activations from outside the cortex\n",
    "    output_mask[cortex_mask] = 0\n",
    "    del cortex_mask\n",
    "    \n",
    "    # Remove small objects\n",
    "#     print('Removing small objects')\n",
    "#     output_objects = get_object_sizes(output_mask)\n",
    "#     min_size = np.percentile(output_objects, 25)\n",
    "#     output_mask = remove_small_objects(output_mask, min_size=min_size, connectivity=2)\n",
    "    \n",
    "    # Plot results for training\n",
    "    if is_train:\n",
    "        fig = plt.figure(dpi=150)\n",
    "\n",
    "        plt.subplot(1,2,1)\n",
    "        plt.imshow(output_mask)\n",
    "\n",
    "        plt.subplot(1,2,2)\n",
    "        plt.imshow(mask)\n",
    "\n",
    "        plt.show()\n",
    "        \n",
    "        dice = dice_coef(output_mask, mask)\n",
    "        \n",
    "        print(f\"Dice Coefficient {dice:.3f}\")\n",
    "        \n",
    "        del mask\n",
    "    \n",
    "\n",
    "    \n",
    "    if not is_train:\n",
    "        print('RL econding')\n",
    "        # Return output mask to its original size\n",
    "        output_mask = array_resize(output_mask, (h, w))\n",
    "        output_file.write(f\"{image_id},\")\n",
    "        \n",
    "        output_mask = output_mask.transpose()\n",
    "        \n",
    "        prediction = \" \".join([f\"{s} {r}\" for s, r in rl_encoder_generator(output_mask)])\n",
    "        output_file.write(prediction)\n",
    "        \n",
    "#         for start, run in rl_encoder_generator(output_mask):\n",
    "#             output_file.write(f\"{start} {run} \")\n",
    "        \n",
    "#         # Removing the last spa\n",
    "#         output_file.seek(-1, os.SEEK_END)\n",
    "#         output_file.truncate()\n",
    "        output_file.write(\"\\n\")\n",
    "        \n",
    "        \n",
    "    del output_mask, prediction\n",
    "\n",
    "output_file.close()"
   ]
  },
  {
   "cell_type": "code",
   "execution_count": null,
   "metadata": {
    "papermill": {
     "duration": 0.02228,
     "end_time": "2021-03-06T21:59:16.255567",
     "exception": false,
     "start_time": "2021-03-06T21:59:16.233287",
     "status": "completed"
    },
    "tags": []
   },
   "outputs": [],
   "source": []
  }
 ],
 "metadata": {
  "kernelspec": {
   "display_name": "Python 3 (ipykernel)",
   "language": "python",
   "name": "python3"
  },
  "language_info": {
   "codemirror_mode": {
    "name": "ipython",
    "version": 3
   },
   "file_extension": ".py",
   "mimetype": "text/x-python",
   "name": "python",
   "nbconvert_exporter": "python",
   "pygments_lexer": "ipython3",
   "version": "3.8.5"
  },
  "papermill": {
   "default_parameters": {},
   "duration": 2488.711944,
   "end_time": "2021-03-06T21:59:19.009174",
   "environment_variables": {},
   "exception": null,
   "input_path": "__notebook__.ipynb",
   "output_path": "__notebook__.ipynb",
   "parameters": {},
   "start_time": "2021-03-06T21:17:50.297230",
   "version": "2.2.2"
  },
  "toc": {
   "base_numbering": 1,
   "nav_menu": {},
   "number_sections": true,
   "sideBar": true,
   "skip_h1_title": false,
   "title_cell": "Table of Contents",
   "title_sidebar": "Contents",
   "toc_cell": false,
   "toc_position": {},
   "toc_section_display": true,
   "toc_window_display": false
  },
  "varInspector": {
   "cols": {
    "lenName": 16,
    "lenType": 16,
    "lenVar": 40
   },
   "kernels_config": {
    "python": {
     "delete_cmd_postfix": "",
     "delete_cmd_prefix": "del ",
     "library": "var_list.py",
     "varRefreshCmd": "print(var_dic_list())"
    },
    "r": {
     "delete_cmd_postfix": ") ",
     "delete_cmd_prefix": "rm(",
     "library": "var_list.r",
     "varRefreshCmd": "cat(var_dic_list()) "
    }
   },
   "types_to_exclude": [
    "module",
    "function",
    "builtin_function_or_method",
    "instance",
    "_Feature"
   ],
   "window_display": false
  },
  "widgets": {
   "application/vnd.jupyter.widget-state+json": {
    "state": {
     "0189a04f69264616ab3f7fef23bc608a": {
      "model_module": "@jupyter-widgets/base",
      "model_module_version": "1.2.0",
      "model_name": "LayoutModel",
      "state": {
       "_model_module": "@jupyter-widgets/base",
       "_model_module_version": "1.2.0",
       "_model_name": "LayoutModel",
       "_view_count": null,
       "_view_module": "@jupyter-widgets/base",
       "_view_module_version": "1.2.0",
       "_view_name": "LayoutView",
       "align_content": null,
       "align_items": null,
       "align_self": null,
       "border": null,
       "bottom": null,
       "display": null,
       "flex": null,
       "flex_flow": null,
       "grid_area": null,
       "grid_auto_columns": null,
       "grid_auto_flow": null,
       "grid_auto_rows": null,
       "grid_column": null,
       "grid_gap": null,
       "grid_row": null,
       "grid_template_areas": null,
       "grid_template_columns": null,
       "grid_template_rows": null,
       "height": null,
       "justify_content": null,
       "justify_items": null,
       "left": null,
       "margin": null,
       "max_height": null,
       "max_width": null,
       "min_height": null,
       "min_width": null,
       "object_fit": null,
       "object_position": null,
       "order": null,
       "overflow": null,
       "overflow_x": null,
       "overflow_y": null,
       "padding": null,
       "right": null,
       "top": null,
       "visibility": null,
       "width": null
      }
     },
     "1007fbefddd042b49a893c2800863cf0": {
      "model_module": "@jupyter-widgets/controls",
      "model_module_version": "1.5.0",
      "model_name": "DescriptionStyleModel",
      "state": {
       "_model_module": "@jupyter-widgets/controls",
       "_model_module_version": "1.5.0",
       "_model_name": "DescriptionStyleModel",
       "_view_count": null,
       "_view_module": "@jupyter-widgets/base",
       "_view_module_version": "1.2.0",
       "_view_name": "StyleView",
       "description_width": ""
      }
     },
     "14e890b52707494c90e22caa4124953d": {
      "model_module": "@jupyter-widgets/controls",
      "model_module_version": "1.5.0",
      "model_name": "ProgressStyleModel",
      "state": {
       "_model_module": "@jupyter-widgets/controls",
       "_model_module_version": "1.5.0",
       "_model_name": "ProgressStyleModel",
       "_view_count": null,
       "_view_module": "@jupyter-widgets/base",
       "_view_module_version": "1.2.0",
       "_view_name": "StyleView",
       "bar_color": null,
       "description_width": ""
      }
     },
     "2687b1246a0d4e108c15a054cb0ec58d": {
      "model_module": "@jupyter-widgets/controls",
      "model_module_version": "1.5.0",
      "model_name": "FloatProgressModel",
      "state": {
       "_dom_classes": [],
       "_model_module": "@jupyter-widgets/controls",
       "_model_module_version": "1.5.0",
       "_model_name": "FloatProgressModel",
       "_view_count": null,
       "_view_module": "@jupyter-widgets/controls",
       "_view_module_version": "1.5.0",
       "_view_name": "ProgressView",
       "bar_style": "success",
       "description": "",
       "description_tooltip": null,
       "layout": "IPY_MODEL_afcdfe4bfe1241d7aff0754047d7f7cc",
       "max": 20,
       "min": 0,
       "orientation": "horizontal",
       "style": "IPY_MODEL_e37eeb5f1a7f4912a6c798a35975f50d",
       "value": 20
      }
     },
     "271f31b68080429ab60342ccfe8e207e": {
      "model_module": "@jupyter-widgets/controls",
      "model_module_version": "1.5.0",
      "model_name": "ProgressStyleModel",
      "state": {
       "_model_module": "@jupyter-widgets/controls",
       "_model_module_version": "1.5.0",
       "_model_name": "ProgressStyleModel",
       "_view_count": null,
       "_view_module": "@jupyter-widgets/base",
       "_view_module_version": "1.2.0",
       "_view_name": "StyleView",
       "bar_color": null,
       "description_width": ""
      }
     },
     "283f62cd11454de2a3500bfe5f241000": {
      "model_module": "@jupyter-widgets/controls",
      "model_module_version": "1.5.0",
      "model_name": "HBoxModel",
      "state": {
       "_dom_classes": [],
       "_model_module": "@jupyter-widgets/controls",
       "_model_module_version": "1.5.0",
       "_model_name": "HBoxModel",
       "_view_count": null,
       "_view_module": "@jupyter-widgets/controls",
       "_view_module_version": "1.5.0",
       "_view_name": "HBoxView",
       "box_style": "",
       "children": [
        "IPY_MODEL_96b3f350da3a48cfb977fa1615bc3e51",
        "IPY_MODEL_c88ae47b21414515b0d293a06b4a43e0",
        "IPY_MODEL_85ceda0106e3467b90e87b1ae6084e3f"
       ],
       "layout": "IPY_MODEL_476f652f30934e86b08e1f03cdb5b219"
      }
     },
     "3a8183c7910f40b786e56666b86933ef": {
      "model_module": "@jupyter-widgets/controls",
      "model_module_version": "1.5.0",
      "model_name": "DescriptionStyleModel",
      "state": {
       "_model_module": "@jupyter-widgets/controls",
       "_model_module_version": "1.5.0",
       "_model_name": "DescriptionStyleModel",
       "_view_count": null,
       "_view_module": "@jupyter-widgets/base",
       "_view_module_version": "1.2.0",
       "_view_name": "StyleView",
       "description_width": ""
      }
     },
     "40299569dffe4062954a28967d0c2da5": {
      "model_module": "@jupyter-widgets/base",
      "model_module_version": "1.2.0",
      "model_name": "LayoutModel",
      "state": {
       "_model_module": "@jupyter-widgets/base",
       "_model_module_version": "1.2.0",
       "_model_name": "LayoutModel",
       "_view_count": null,
       "_view_module": "@jupyter-widgets/base",
       "_view_module_version": "1.2.0",
       "_view_name": "LayoutView",
       "align_content": null,
       "align_items": null,
       "align_self": null,
       "border": null,
       "bottom": null,
       "display": null,
       "flex": null,
       "flex_flow": null,
       "grid_area": null,
       "grid_auto_columns": null,
       "grid_auto_flow": null,
       "grid_auto_rows": null,
       "grid_column": null,
       "grid_gap": null,
       "grid_row": null,
       "grid_template_areas": null,
       "grid_template_columns": null,
       "grid_template_rows": null,
       "height": null,
       "justify_content": null,
       "justify_items": null,
       "left": null,
       "margin": null,
       "max_height": null,
       "max_width": null,
       "min_height": null,
       "min_width": null,
       "object_fit": null,
       "object_position": null,
       "order": null,
       "overflow": null,
       "overflow_x": null,
       "overflow_y": null,
       "padding": null,
       "right": null,
       "top": null,
       "visibility": null,
       "width": null
      }
     },
     "476f652f30934e86b08e1f03cdb5b219": {
      "model_module": "@jupyter-widgets/base",
      "model_module_version": "1.2.0",
      "model_name": "LayoutModel",
      "state": {
       "_model_module": "@jupyter-widgets/base",
       "_model_module_version": "1.2.0",
       "_model_name": "LayoutModel",
       "_view_count": null,
       "_view_module": "@jupyter-widgets/base",
       "_view_module_version": "1.2.0",
       "_view_name": "LayoutView",
       "align_content": null,
       "align_items": null,
       "align_self": null,
       "border": null,
       "bottom": null,
       "display": null,
       "flex": null,
       "flex_flow": null,
       "grid_area": null,
       "grid_auto_columns": null,
       "grid_auto_flow": null,
       "grid_auto_rows": null,
       "grid_column": null,
       "grid_gap": null,
       "grid_row": null,
       "grid_template_areas": null,
       "grid_template_columns": null,
       "grid_template_rows": null,
       "height": null,
       "justify_content": null,
       "justify_items": null,
       "left": null,
       "margin": null,
       "max_height": null,
       "max_width": null,
       "min_height": null,
       "min_width": null,
       "object_fit": null,
       "object_position": null,
       "order": null,
       "overflow": null,
       "overflow_x": null,
       "overflow_y": null,
       "padding": null,
       "right": null,
       "top": null,
       "visibility": null,
       "width": null
      }
     },
     "4a713b859e89457c8a5c6272319f4a8f": {
      "model_module": "@jupyter-widgets/controls",
      "model_module_version": "1.5.0",
      "model_name": "HBoxModel",
      "state": {
       "_dom_classes": [],
       "_model_module": "@jupyter-widgets/controls",
       "_model_module_version": "1.5.0",
       "_model_name": "HBoxModel",
       "_view_count": null,
       "_view_module": "@jupyter-widgets/controls",
       "_view_module_version": "1.5.0",
       "_view_name": "HBoxView",
       "box_style": "",
       "children": [
        "IPY_MODEL_d23b6f1916814c7aab30c582bf0be5b7",
        "IPY_MODEL_bb129e9be57d4547b7344d0c2ab5fbc2",
        "IPY_MODEL_f8f08d56b4994ce3a47a1465fd46af06"
       ],
       "layout": "IPY_MODEL_b8f38c9437a343d99abbb5e66eef1549"
      }
     },
     "4f883d75e66f440c98814de9c62c5850": {
      "model_module": "@jupyter-widgets/controls",
      "model_module_version": "1.5.0",
      "model_name": "DescriptionStyleModel",
      "state": {
       "_model_module": "@jupyter-widgets/controls",
       "_model_module_version": "1.5.0",
       "_model_name": "DescriptionStyleModel",
       "_view_count": null,
       "_view_module": "@jupyter-widgets/base",
       "_view_module_version": "1.2.0",
       "_view_name": "StyleView",
       "description_width": ""
      }
     },
     "5224a2bd3edd4db2b20c1eed585a2702": {
      "model_module": "@jupyter-widgets/controls",
      "model_module_version": "1.5.0",
      "model_name": "DescriptionStyleModel",
      "state": {
       "_model_module": "@jupyter-widgets/controls",
       "_model_module_version": "1.5.0",
       "_model_name": "DescriptionStyleModel",
       "_view_count": null,
       "_view_module": "@jupyter-widgets/base",
       "_view_module_version": "1.2.0",
       "_view_name": "StyleView",
       "description_width": ""
      }
     },
     "5ff2bc9b9f2a4a6c8aabbf4dc06350b4": {
      "model_module": "@jupyter-widgets/controls",
      "model_module_version": "1.5.0",
      "model_name": "HTMLModel",
      "state": {
       "_dom_classes": [],
       "_model_module": "@jupyter-widgets/controls",
       "_model_module_version": "1.5.0",
       "_model_name": "HTMLModel",
       "_view_count": null,
       "_view_module": "@jupyter-widgets/controls",
       "_view_module_version": "1.5.0",
       "_view_name": "HTMLView",
       "description": "",
       "description_tooltip": null,
       "layout": "IPY_MODEL_a8488e7ed407497fa6af5c28ee8e6c47",
       "placeholder": "​",
       "style": "IPY_MODEL_d2b2cb6750c84039a595af336c5d0a0a",
       "value": " 20/20 [05:48&lt;00:00, 18.30s/it]"
      }
     },
     "656fa9e810de4ad5af98dab78e40ae42": {
      "model_module": "@jupyter-widgets/controls",
      "model_module_version": "1.5.0",
      "model_name": "FloatProgressModel",
      "state": {
       "_dom_classes": [],
       "_model_module": "@jupyter-widgets/controls",
       "_model_module_version": "1.5.0",
       "_model_name": "FloatProgressModel",
       "_view_count": null,
       "_view_module": "@jupyter-widgets/controls",
       "_view_module_version": "1.5.0",
       "_view_name": "ProgressView",
       "bar_style": "success",
       "description": "",
       "description_tooltip": null,
       "layout": "IPY_MODEL_c39be547bf554876972a98e3b0d8c6ad",
       "max": 20,
       "min": 0,
       "orientation": "horizontal",
       "style": "IPY_MODEL_271f31b68080429ab60342ccfe8e207e",
       "value": 20
      }
     },
     "695cfbeda7f14a1ab7ef6bb00008a8d4": {
      "model_module": "@jupyter-widgets/controls",
      "model_module_version": "1.5.0",
      "model_name": "DescriptionStyleModel",
      "state": {
       "_model_module": "@jupyter-widgets/controls",
       "_model_module_version": "1.5.0",
       "_model_name": "DescriptionStyleModel",
       "_view_count": null,
       "_view_module": "@jupyter-widgets/base",
       "_view_module_version": "1.2.0",
       "_view_name": "StyleView",
       "description_width": ""
      }
     },
     "75f4b94a45a240b0ba9c3c14129a8249": {
      "model_module": "@jupyter-widgets/base",
      "model_module_version": "1.2.0",
      "model_name": "LayoutModel",
      "state": {
       "_model_module": "@jupyter-widgets/base",
       "_model_module_version": "1.2.0",
       "_model_name": "LayoutModel",
       "_view_count": null,
       "_view_module": "@jupyter-widgets/base",
       "_view_module_version": "1.2.0",
       "_view_name": "LayoutView",
       "align_content": null,
       "align_items": null,
       "align_self": null,
       "border": null,
       "bottom": null,
       "display": null,
       "flex": null,
       "flex_flow": null,
       "grid_area": null,
       "grid_auto_columns": null,
       "grid_auto_flow": null,
       "grid_auto_rows": null,
       "grid_column": null,
       "grid_gap": null,
       "grid_row": null,
       "grid_template_areas": null,
       "grid_template_columns": null,
       "grid_template_rows": null,
       "height": null,
       "justify_content": null,
       "justify_items": null,
       "left": null,
       "margin": null,
       "max_height": null,
       "max_width": null,
       "min_height": null,
       "min_width": null,
       "object_fit": null,
       "object_position": null,
       "order": null,
       "overflow": null,
       "overflow_x": null,
       "overflow_y": null,
       "padding": null,
       "right": null,
       "top": null,
       "visibility": null,
       "width": null
      }
     },
     "7e3e2dc861824d359fc5c4131de1ed71": {
      "model_module": "@jupyter-widgets/base",
      "model_module_version": "1.2.0",
      "model_name": "LayoutModel",
      "state": {
       "_model_module": "@jupyter-widgets/base",
       "_model_module_version": "1.2.0",
       "_model_name": "LayoutModel",
       "_view_count": null,
       "_view_module": "@jupyter-widgets/base",
       "_view_module_version": "1.2.0",
       "_view_name": "LayoutView",
       "align_content": null,
       "align_items": null,
       "align_self": null,
       "border": null,
       "bottom": null,
       "display": null,
       "flex": null,
       "flex_flow": null,
       "grid_area": null,
       "grid_auto_columns": null,
       "grid_auto_flow": null,
       "grid_auto_rows": null,
       "grid_column": null,
       "grid_gap": null,
       "grid_row": null,
       "grid_template_areas": null,
       "grid_template_columns": null,
       "grid_template_rows": null,
       "height": null,
       "justify_content": null,
       "justify_items": null,
       "left": null,
       "margin": null,
       "max_height": null,
       "max_width": null,
       "min_height": null,
       "min_width": null,
       "object_fit": null,
       "object_position": null,
       "order": null,
       "overflow": null,
       "overflow_x": null,
       "overflow_y": null,
       "padding": null,
       "right": null,
       "top": null,
       "visibility": null,
       "width": null
      }
     },
     "8146673e0b814380a2a47be926129d39": {
      "model_module": "@jupyter-widgets/controls",
      "model_module_version": "1.5.0",
      "model_name": "HBoxModel",
      "state": {
       "_dom_classes": [],
       "_model_module": "@jupyter-widgets/controls",
       "_model_module_version": "1.5.0",
       "_model_name": "HBoxModel",
       "_view_count": null,
       "_view_module": "@jupyter-widgets/controls",
       "_view_module_version": "1.5.0",
       "_view_name": "HBoxView",
       "box_style": "",
       "children": [
        "IPY_MODEL_89948af1b80c463e8b079a96ea04f58d",
        "IPY_MODEL_2687b1246a0d4e108c15a054cb0ec58d",
        "IPY_MODEL_94403a8208d44c7b897900ab50472b3f"
       ],
       "layout": "IPY_MODEL_9435da5ef4504446a5151012eea60b81"
      }
     },
     "8153149850364a89a5d0b60bd12b0b3a": {
      "model_module": "@jupyter-widgets/base",
      "model_module_version": "1.2.0",
      "model_name": "LayoutModel",
      "state": {
       "_model_module": "@jupyter-widgets/base",
       "_model_module_version": "1.2.0",
       "_model_name": "LayoutModel",
       "_view_count": null,
       "_view_module": "@jupyter-widgets/base",
       "_view_module_version": "1.2.0",
       "_view_name": "LayoutView",
       "align_content": null,
       "align_items": null,
       "align_self": null,
       "border": null,
       "bottom": null,
       "display": null,
       "flex": null,
       "flex_flow": null,
       "grid_area": null,
       "grid_auto_columns": null,
       "grid_auto_flow": null,
       "grid_auto_rows": null,
       "grid_column": null,
       "grid_gap": null,
       "grid_row": null,
       "grid_template_areas": null,
       "grid_template_columns": null,
       "grid_template_rows": null,
       "height": null,
       "justify_content": null,
       "justify_items": null,
       "left": null,
       "margin": null,
       "max_height": null,
       "max_width": null,
       "min_height": null,
       "min_width": null,
       "object_fit": null,
       "object_position": null,
       "order": null,
       "overflow": null,
       "overflow_x": null,
       "overflow_y": null,
       "padding": null,
       "right": null,
       "top": null,
       "visibility": null,
       "width": null
      }
     },
     "83b50e02b4ff477ba8533a3c8ee2016a": {
      "model_module": "@jupyter-widgets/controls",
      "model_module_version": "1.5.0",
      "model_name": "ProgressStyleModel",
      "state": {
       "_model_module": "@jupyter-widgets/controls",
       "_model_module_version": "1.5.0",
       "_model_name": "ProgressStyleModel",
       "_view_count": null,
       "_view_module": "@jupyter-widgets/base",
       "_view_module_version": "1.2.0",
       "_view_name": "StyleView",
       "bar_color": null,
       "description_width": ""
      }
     },
     "84a6cd1affb34e58a9bfec9130fe1dfa": {
      "model_module": "@jupyter-widgets/controls",
      "model_module_version": "1.5.0",
      "model_name": "DescriptionStyleModel",
      "state": {
       "_model_module": "@jupyter-widgets/controls",
       "_model_module_version": "1.5.0",
       "_model_name": "DescriptionStyleModel",
       "_view_count": null,
       "_view_module": "@jupyter-widgets/base",
       "_view_module_version": "1.2.0",
       "_view_name": "StyleView",
       "description_width": ""
      }
     },
     "85ceda0106e3467b90e87b1ae6084e3f": {
      "model_module": "@jupyter-widgets/controls",
      "model_module_version": "1.5.0",
      "model_name": "HTMLModel",
      "state": {
       "_dom_classes": [],
       "_model_module": "@jupyter-widgets/controls",
       "_model_module_version": "1.5.0",
       "_model_name": "HTMLModel",
       "_view_count": null,
       "_view_module": "@jupyter-widgets/controls",
       "_view_module_version": "1.5.0",
       "_view_name": "HTMLView",
       "description": "",
       "description_tooltip": null,
       "layout": "IPY_MODEL_7e3e2dc861824d359fc5c4131de1ed71",
       "placeholder": "​",
       "style": "IPY_MODEL_89030045cfbf4a36a7e4d46257288b0c",
       "value": " 21/21 [04:29&lt;00:00, 10.86s/it]"
      }
     },
     "89030045cfbf4a36a7e4d46257288b0c": {
      "model_module": "@jupyter-widgets/controls",
      "model_module_version": "1.5.0",
      "model_name": "DescriptionStyleModel",
      "state": {
       "_model_module": "@jupyter-widgets/controls",
       "_model_module_version": "1.5.0",
       "_model_name": "DescriptionStyleModel",
       "_view_count": null,
       "_view_module": "@jupyter-widgets/base",
       "_view_module_version": "1.2.0",
       "_view_name": "StyleView",
       "description_width": ""
      }
     },
     "89948af1b80c463e8b079a96ea04f58d": {
      "model_module": "@jupyter-widgets/controls",
      "model_module_version": "1.5.0",
      "model_name": "HTMLModel",
      "state": {
       "_dom_classes": [],
       "_model_module": "@jupyter-widgets/controls",
       "_model_module_version": "1.5.0",
       "_model_name": "HTMLModel",
       "_view_count": null,
       "_view_module": "@jupyter-widgets/controls",
       "_view_module_version": "1.5.0",
       "_view_name": "HTMLView",
       "description": "",
       "description_tooltip": null,
       "layout": "IPY_MODEL_a607434675aa49c8a3dcaae8546e4c94",
       "placeholder": "​",
       "style": "IPY_MODEL_4f883d75e66f440c98814de9c62c5850",
       "value": "100%"
      }
     },
     "8b1131ea4102459d95598dda9cefe24c": {
      "model_module": "@jupyter-widgets/controls",
      "model_module_version": "1.5.0",
      "model_name": "ProgressStyleModel",
      "state": {
       "_model_module": "@jupyter-widgets/controls",
       "_model_module_version": "1.5.0",
       "_model_name": "ProgressStyleModel",
       "_view_count": null,
       "_view_module": "@jupyter-widgets/base",
       "_view_module_version": "1.2.0",
       "_view_name": "StyleView",
       "bar_color": null,
       "description_width": ""
      }
     },
     "8f5b4467d5d040328c2ede9fa76169f4": {
      "model_module": "@jupyter-widgets/controls",
      "model_module_version": "1.5.0",
      "model_name": "FloatProgressModel",
      "state": {
       "_dom_classes": [],
       "_model_module": "@jupyter-widgets/controls",
       "_model_module_version": "1.5.0",
       "_model_name": "FloatProgressModel",
       "_view_count": null,
       "_view_module": "@jupyter-widgets/controls",
       "_view_module_version": "1.5.0",
       "_view_name": "ProgressView",
       "bar_style": "success",
       "description": "",
       "description_tooltip": null,
       "layout": "IPY_MODEL_e563a38826844a68892200c4f28d36cb",
       "max": 20,
       "min": 0,
       "orientation": "horizontal",
       "style": "IPY_MODEL_8b1131ea4102459d95598dda9cefe24c",
       "value": 20
      }
     },
     "91b5c15b5d07498bbc5d8090e174dd6c": {
      "model_module": "@jupyter-widgets/controls",
      "model_module_version": "1.5.0",
      "model_name": "HTMLModel",
      "state": {
       "_dom_classes": [],
       "_model_module": "@jupyter-widgets/controls",
       "_model_module_version": "1.5.0",
       "_model_name": "HTMLModel",
       "_view_count": null,
       "_view_module": "@jupyter-widgets/controls",
       "_view_module_version": "1.5.0",
       "_view_name": "HTMLView",
       "description": "",
       "description_tooltip": null,
       "layout": "IPY_MODEL_a342ac03dbdf4a39a698069b208628ae",
       "placeholder": "​",
       "style": "IPY_MODEL_3a8183c7910f40b786e56666b86933ef",
       "value": " 20/20 [04:38&lt;00:00, 14.88s/it]"
      }
     },
     "9435da5ef4504446a5151012eea60b81": {
      "model_module": "@jupyter-widgets/base",
      "model_module_version": "1.2.0",
      "model_name": "LayoutModel",
      "state": {
       "_model_module": "@jupyter-widgets/base",
       "_model_module_version": "1.2.0",
       "_model_name": "LayoutModel",
       "_view_count": null,
       "_view_module": "@jupyter-widgets/base",
       "_view_module_version": "1.2.0",
       "_view_name": "LayoutView",
       "align_content": null,
       "align_items": null,
       "align_self": null,
       "border": null,
       "bottom": null,
       "display": null,
       "flex": null,
       "flex_flow": null,
       "grid_area": null,
       "grid_auto_columns": null,
       "grid_auto_flow": null,
       "grid_auto_rows": null,
       "grid_column": null,
       "grid_gap": null,
       "grid_row": null,
       "grid_template_areas": null,
       "grid_template_columns": null,
       "grid_template_rows": null,
       "height": null,
       "justify_content": null,
       "justify_items": null,
       "left": null,
       "margin": null,
       "max_height": null,
       "max_width": null,
       "min_height": null,
       "min_width": null,
       "object_fit": null,
       "object_position": null,
       "order": null,
       "overflow": null,
       "overflow_x": null,
       "overflow_y": null,
       "padding": null,
       "right": null,
       "top": null,
       "visibility": null,
       "width": null
      }
     },
     "94403a8208d44c7b897900ab50472b3f": {
      "model_module": "@jupyter-widgets/controls",
      "model_module_version": "1.5.0",
      "model_name": "HTMLModel",
      "state": {
       "_dom_classes": [],
       "_model_module": "@jupyter-widgets/controls",
       "_model_module_version": "1.5.0",
       "_model_name": "HTMLModel",
       "_view_count": null,
       "_view_module": "@jupyter-widgets/controls",
       "_view_module_version": "1.5.0",
       "_view_name": "HTMLView",
       "description": "",
       "description_tooltip": null,
       "layout": "IPY_MODEL_b6b775767a194e3bb80393bd7bb81a52",
       "placeholder": "​",
       "style": "IPY_MODEL_ab00bf56007a4ce78787da21f85d8d2f",
       "value": " 20/20 [04:05&lt;00:00, 10.32s/it]"
      }
     },
     "96b3f350da3a48cfb977fa1615bc3e51": {
      "model_module": "@jupyter-widgets/controls",
      "model_module_version": "1.5.0",
      "model_name": "HTMLModel",
      "state": {
       "_dom_classes": [],
       "_model_module": "@jupyter-widgets/controls",
       "_model_module_version": "1.5.0",
       "_model_name": "HTMLModel",
       "_view_count": null,
       "_view_module": "@jupyter-widgets/controls",
       "_view_module_version": "1.5.0",
       "_view_name": "HTMLView",
       "description": "",
       "description_tooltip": null,
       "layout": "IPY_MODEL_b222747f19b94980b857f32033d08c02",
       "placeholder": "​",
       "style": "IPY_MODEL_1007fbefddd042b49a893c2800863cf0",
       "value": "100%"
      }
     },
     "9bc1be476d8f45a1ac6aa60345146e69": {
      "model_module": "@jupyter-widgets/base",
      "model_module_version": "1.2.0",
      "model_name": "LayoutModel",
      "state": {
       "_model_module": "@jupyter-widgets/base",
       "_model_module_version": "1.2.0",
       "_model_name": "LayoutModel",
       "_view_count": null,
       "_view_module": "@jupyter-widgets/base",
       "_view_module_version": "1.2.0",
       "_view_name": "LayoutView",
       "align_content": null,
       "align_items": null,
       "align_self": null,
       "border": null,
       "bottom": null,
       "display": null,
       "flex": null,
       "flex_flow": null,
       "grid_area": null,
       "grid_auto_columns": null,
       "grid_auto_flow": null,
       "grid_auto_rows": null,
       "grid_column": null,
       "grid_gap": null,
       "grid_row": null,
       "grid_template_areas": null,
       "grid_template_columns": null,
       "grid_template_rows": null,
       "height": null,
       "justify_content": null,
       "justify_items": null,
       "left": null,
       "margin": null,
       "max_height": null,
       "max_width": null,
       "min_height": null,
       "min_width": null,
       "object_fit": null,
       "object_position": null,
       "order": null,
       "overflow": null,
       "overflow_x": null,
       "overflow_y": null,
       "padding": null,
       "right": null,
       "top": null,
       "visibility": null,
       "width": null
      }
     },
     "a342ac03dbdf4a39a698069b208628ae": {
      "model_module": "@jupyter-widgets/base",
      "model_module_version": "1.2.0",
      "model_name": "LayoutModel",
      "state": {
       "_model_module": "@jupyter-widgets/base",
       "_model_module_version": "1.2.0",
       "_model_name": "LayoutModel",
       "_view_count": null,
       "_view_module": "@jupyter-widgets/base",
       "_view_module_version": "1.2.0",
       "_view_name": "LayoutView",
       "align_content": null,
       "align_items": null,
       "align_self": null,
       "border": null,
       "bottom": null,
       "display": null,
       "flex": null,
       "flex_flow": null,
       "grid_area": null,
       "grid_auto_columns": null,
       "grid_auto_flow": null,
       "grid_auto_rows": null,
       "grid_column": null,
       "grid_gap": null,
       "grid_row": null,
       "grid_template_areas": null,
       "grid_template_columns": null,
       "grid_template_rows": null,
       "height": null,
       "justify_content": null,
       "justify_items": null,
       "left": null,
       "margin": null,
       "max_height": null,
       "max_width": null,
       "min_height": null,
       "min_width": null,
       "object_fit": null,
       "object_position": null,
       "order": null,
       "overflow": null,
       "overflow_x": null,
       "overflow_y": null,
       "padding": null,
       "right": null,
       "top": null,
       "visibility": null,
       "width": null
      }
     },
     "a607434675aa49c8a3dcaae8546e4c94": {
      "model_module": "@jupyter-widgets/base",
      "model_module_version": "1.2.0",
      "model_name": "LayoutModel",
      "state": {
       "_model_module": "@jupyter-widgets/base",
       "_model_module_version": "1.2.0",
       "_model_name": "LayoutModel",
       "_view_count": null,
       "_view_module": "@jupyter-widgets/base",
       "_view_module_version": "1.2.0",
       "_view_name": "LayoutView",
       "align_content": null,
       "align_items": null,
       "align_self": null,
       "border": null,
       "bottom": null,
       "display": null,
       "flex": null,
       "flex_flow": null,
       "grid_area": null,
       "grid_auto_columns": null,
       "grid_auto_flow": null,
       "grid_auto_rows": null,
       "grid_column": null,
       "grid_gap": null,
       "grid_row": null,
       "grid_template_areas": null,
       "grid_template_columns": null,
       "grid_template_rows": null,
       "height": null,
       "justify_content": null,
       "justify_items": null,
       "left": null,
       "margin": null,
       "max_height": null,
       "max_width": null,
       "min_height": null,
       "min_width": null,
       "object_fit": null,
       "object_position": null,
       "order": null,
       "overflow": null,
       "overflow_x": null,
       "overflow_y": null,
       "padding": null,
       "right": null,
       "top": null,
       "visibility": null,
       "width": null
      }
     },
     "a67e055f3c084b969c2763cbb8c660bc": {
      "model_module": "@jupyter-widgets/base",
      "model_module_version": "1.2.0",
      "model_name": "LayoutModel",
      "state": {
       "_model_module": "@jupyter-widgets/base",
       "_model_module_version": "1.2.0",
       "_model_name": "LayoutModel",
       "_view_count": null,
       "_view_module": "@jupyter-widgets/base",
       "_view_module_version": "1.2.0",
       "_view_name": "LayoutView",
       "align_content": null,
       "align_items": null,
       "align_self": null,
       "border": null,
       "bottom": null,
       "display": null,
       "flex": null,
       "flex_flow": null,
       "grid_area": null,
       "grid_auto_columns": null,
       "grid_auto_flow": null,
       "grid_auto_rows": null,
       "grid_column": null,
       "grid_gap": null,
       "grid_row": null,
       "grid_template_areas": null,
       "grid_template_columns": null,
       "grid_template_rows": null,
       "height": null,
       "justify_content": null,
       "justify_items": null,
       "left": null,
       "margin": null,
       "max_height": null,
       "max_width": null,
       "min_height": null,
       "min_width": null,
       "object_fit": null,
       "object_position": null,
       "order": null,
       "overflow": null,
       "overflow_x": null,
       "overflow_y": null,
       "padding": null,
       "right": null,
       "top": null,
       "visibility": null,
       "width": null
      }
     },
     "a71489a67a374bc0bf92a48fddb698ff": {
      "model_module": "@jupyter-widgets/base",
      "model_module_version": "1.2.0",
      "model_name": "LayoutModel",
      "state": {
       "_model_module": "@jupyter-widgets/base",
       "_model_module_version": "1.2.0",
       "_model_name": "LayoutModel",
       "_view_count": null,
       "_view_module": "@jupyter-widgets/base",
       "_view_module_version": "1.2.0",
       "_view_name": "LayoutView",
       "align_content": null,
       "align_items": null,
       "align_self": null,
       "border": null,
       "bottom": null,
       "display": null,
       "flex": null,
       "flex_flow": null,
       "grid_area": null,
       "grid_auto_columns": null,
       "grid_auto_flow": null,
       "grid_auto_rows": null,
       "grid_column": null,
       "grid_gap": null,
       "grid_row": null,
       "grid_template_areas": null,
       "grid_template_columns": null,
       "grid_template_rows": null,
       "height": null,
       "justify_content": null,
       "justify_items": null,
       "left": null,
       "margin": null,
       "max_height": null,
       "max_width": null,
       "min_height": null,
       "min_width": null,
       "object_fit": null,
       "object_position": null,
       "order": null,
       "overflow": null,
       "overflow_x": null,
       "overflow_y": null,
       "padding": null,
       "right": null,
       "top": null,
       "visibility": null,
       "width": null
      }
     },
     "a8488e7ed407497fa6af5c28ee8e6c47": {
      "model_module": "@jupyter-widgets/base",
      "model_module_version": "1.2.0",
      "model_name": "LayoutModel",
      "state": {
       "_model_module": "@jupyter-widgets/base",
       "_model_module_version": "1.2.0",
       "_model_name": "LayoutModel",
       "_view_count": null,
       "_view_module": "@jupyter-widgets/base",
       "_view_module_version": "1.2.0",
       "_view_name": "LayoutView",
       "align_content": null,
       "align_items": null,
       "align_self": null,
       "border": null,
       "bottom": null,
       "display": null,
       "flex": null,
       "flex_flow": null,
       "grid_area": null,
       "grid_auto_columns": null,
       "grid_auto_flow": null,
       "grid_auto_rows": null,
       "grid_column": null,
       "grid_gap": null,
       "grid_row": null,
       "grid_template_areas": null,
       "grid_template_columns": null,
       "grid_template_rows": null,
       "height": null,
       "justify_content": null,
       "justify_items": null,
       "left": null,
       "margin": null,
       "max_height": null,
       "max_width": null,
       "min_height": null,
       "min_width": null,
       "object_fit": null,
       "object_position": null,
       "order": null,
       "overflow": null,
       "overflow_x": null,
       "overflow_y": null,
       "padding": null,
       "right": null,
       "top": null,
       "visibility": null,
       "width": null
      }
     },
     "a89051c6ca3945ff8a8cbe16f62dc972": {
      "model_module": "@jupyter-widgets/controls",
      "model_module_version": "1.5.0",
      "model_name": "HBoxModel",
      "state": {
       "_dom_classes": [],
       "_model_module": "@jupyter-widgets/controls",
       "_model_module_version": "1.5.0",
       "_model_name": "HBoxModel",
       "_view_count": null,
       "_view_module": "@jupyter-widgets/controls",
       "_view_module_version": "1.5.0",
       "_view_name": "HBoxView",
       "box_style": "",
       "children": [
        "IPY_MODEL_ceae34adf6e0423b907b38774c22aac0",
        "IPY_MODEL_656fa9e810de4ad5af98dab78e40ae42",
        "IPY_MODEL_91b5c15b5d07498bbc5d8090e174dd6c"
       ],
       "layout": "IPY_MODEL_a71489a67a374bc0bf92a48fddb698ff"
      }
     },
     "ab00bf56007a4ce78787da21f85d8d2f": {
      "model_module": "@jupyter-widgets/controls",
      "model_module_version": "1.5.0",
      "model_name": "DescriptionStyleModel",
      "state": {
       "_model_module": "@jupyter-widgets/controls",
       "_model_module_version": "1.5.0",
       "_model_name": "DescriptionStyleModel",
       "_view_count": null,
       "_view_module": "@jupyter-widgets/base",
       "_view_module_version": "1.2.0",
       "_view_name": "StyleView",
       "description_width": ""
      }
     },
     "afcdfe4bfe1241d7aff0754047d7f7cc": {
      "model_module": "@jupyter-widgets/base",
      "model_module_version": "1.2.0",
      "model_name": "LayoutModel",
      "state": {
       "_model_module": "@jupyter-widgets/base",
       "_model_module_version": "1.2.0",
       "_model_name": "LayoutModel",
       "_view_count": null,
       "_view_module": "@jupyter-widgets/base",
       "_view_module_version": "1.2.0",
       "_view_name": "LayoutView",
       "align_content": null,
       "align_items": null,
       "align_self": null,
       "border": null,
       "bottom": null,
       "display": null,
       "flex": null,
       "flex_flow": null,
       "grid_area": null,
       "grid_auto_columns": null,
       "grid_auto_flow": null,
       "grid_auto_rows": null,
       "grid_column": null,
       "grid_gap": null,
       "grid_row": null,
       "grid_template_areas": null,
       "grid_template_columns": null,
       "grid_template_rows": null,
       "height": null,
       "justify_content": null,
       "justify_items": null,
       "left": null,
       "margin": null,
       "max_height": null,
       "max_width": null,
       "min_height": null,
       "min_width": null,
       "object_fit": null,
       "object_position": null,
       "order": null,
       "overflow": null,
       "overflow_x": null,
       "overflow_y": null,
       "padding": null,
       "right": null,
       "top": null,
       "visibility": null,
       "width": null
      }
     },
     "b222747f19b94980b857f32033d08c02": {
      "model_module": "@jupyter-widgets/base",
      "model_module_version": "1.2.0",
      "model_name": "LayoutModel",
      "state": {
       "_model_module": "@jupyter-widgets/base",
       "_model_module_version": "1.2.0",
       "_model_name": "LayoutModel",
       "_view_count": null,
       "_view_module": "@jupyter-widgets/base",
       "_view_module_version": "1.2.0",
       "_view_name": "LayoutView",
       "align_content": null,
       "align_items": null,
       "align_self": null,
       "border": null,
       "bottom": null,
       "display": null,
       "flex": null,
       "flex_flow": null,
       "grid_area": null,
       "grid_auto_columns": null,
       "grid_auto_flow": null,
       "grid_auto_rows": null,
       "grid_column": null,
       "grid_gap": null,
       "grid_row": null,
       "grid_template_areas": null,
       "grid_template_columns": null,
       "grid_template_rows": null,
       "height": null,
       "justify_content": null,
       "justify_items": null,
       "left": null,
       "margin": null,
       "max_height": null,
       "max_width": null,
       "min_height": null,
       "min_width": null,
       "object_fit": null,
       "object_position": null,
       "order": null,
       "overflow": null,
       "overflow_x": null,
       "overflow_y": null,
       "padding": null,
       "right": null,
       "top": null,
       "visibility": null,
       "width": null
      }
     },
     "b48a391d236c4759b5feb42723e5dd3c": {
      "model_module": "@jupyter-widgets/controls",
      "model_module_version": "1.5.0",
      "model_name": "HBoxModel",
      "state": {
       "_dom_classes": [],
       "_model_module": "@jupyter-widgets/controls",
       "_model_module_version": "1.5.0",
       "_model_name": "HBoxModel",
       "_view_count": null,
       "_view_module": "@jupyter-widgets/controls",
       "_view_module_version": "1.5.0",
       "_view_name": "HBoxView",
       "box_style": "",
       "children": [
        "IPY_MODEL_e6950cd24e354521a38f18cb358bd690",
        "IPY_MODEL_8f5b4467d5d040328c2ede9fa76169f4",
        "IPY_MODEL_5ff2bc9b9f2a4a6c8aabbf4dc06350b4"
       ],
       "layout": "IPY_MODEL_75f4b94a45a240b0ba9c3c14129a8249"
      }
     },
     "b6b775767a194e3bb80393bd7bb81a52": {
      "model_module": "@jupyter-widgets/base",
      "model_module_version": "1.2.0",
      "model_name": "LayoutModel",
      "state": {
       "_model_module": "@jupyter-widgets/base",
       "_model_module_version": "1.2.0",
       "_model_name": "LayoutModel",
       "_view_count": null,
       "_view_module": "@jupyter-widgets/base",
       "_view_module_version": "1.2.0",
       "_view_name": "LayoutView",
       "align_content": null,
       "align_items": null,
       "align_self": null,
       "border": null,
       "bottom": null,
       "display": null,
       "flex": null,
       "flex_flow": null,
       "grid_area": null,
       "grid_auto_columns": null,
       "grid_auto_flow": null,
       "grid_auto_rows": null,
       "grid_column": null,
       "grid_gap": null,
       "grid_row": null,
       "grid_template_areas": null,
       "grid_template_columns": null,
       "grid_template_rows": null,
       "height": null,
       "justify_content": null,
       "justify_items": null,
       "left": null,
       "margin": null,
       "max_height": null,
       "max_width": null,
       "min_height": null,
       "min_width": null,
       "object_fit": null,
       "object_position": null,
       "order": null,
       "overflow": null,
       "overflow_x": null,
       "overflow_y": null,
       "padding": null,
       "right": null,
       "top": null,
       "visibility": null,
       "width": null
      }
     },
     "b8f38c9437a343d99abbb5e66eef1549": {
      "model_module": "@jupyter-widgets/base",
      "model_module_version": "1.2.0",
      "model_name": "LayoutModel",
      "state": {
       "_model_module": "@jupyter-widgets/base",
       "_model_module_version": "1.2.0",
       "_model_name": "LayoutModel",
       "_view_count": null,
       "_view_module": "@jupyter-widgets/base",
       "_view_module_version": "1.2.0",
       "_view_name": "LayoutView",
       "align_content": null,
       "align_items": null,
       "align_self": null,
       "border": null,
       "bottom": null,
       "display": null,
       "flex": null,
       "flex_flow": null,
       "grid_area": null,
       "grid_auto_columns": null,
       "grid_auto_flow": null,
       "grid_auto_rows": null,
       "grid_column": null,
       "grid_gap": null,
       "grid_row": null,
       "grid_template_areas": null,
       "grid_template_columns": null,
       "grid_template_rows": null,
       "height": null,
       "justify_content": null,
       "justify_items": null,
       "left": null,
       "margin": null,
       "max_height": null,
       "max_width": null,
       "min_height": null,
       "min_width": null,
       "object_fit": null,
       "object_position": null,
       "order": null,
       "overflow": null,
       "overflow_x": null,
       "overflow_y": null,
       "padding": null,
       "right": null,
       "top": null,
       "visibility": null,
       "width": null
      }
     },
     "bb129e9be57d4547b7344d0c2ab5fbc2": {
      "model_module": "@jupyter-widgets/controls",
      "model_module_version": "1.5.0",
      "model_name": "FloatProgressModel",
      "state": {
       "_dom_classes": [],
       "_model_module": "@jupyter-widgets/controls",
       "_model_module_version": "1.5.0",
       "_model_name": "FloatProgressModel",
       "_view_count": null,
       "_view_module": "@jupyter-widgets/controls",
       "_view_module_version": "1.5.0",
       "_view_name": "ProgressView",
       "bar_style": "success",
       "description": "",
       "description_tooltip": null,
       "layout": "IPY_MODEL_8153149850364a89a5d0b60bd12b0b3a",
       "max": 21,
       "min": 0,
       "orientation": "horizontal",
       "style": "IPY_MODEL_83b50e02b4ff477ba8533a3c8ee2016a",
       "value": 21
      }
     },
     "bb402aa1779a42e6877b05904c504569": {
      "model_module": "@jupyter-widgets/base",
      "model_module_version": "1.2.0",
      "model_name": "LayoutModel",
      "state": {
       "_model_module": "@jupyter-widgets/base",
       "_model_module_version": "1.2.0",
       "_model_name": "LayoutModel",
       "_view_count": null,
       "_view_module": "@jupyter-widgets/base",
       "_view_module_version": "1.2.0",
       "_view_name": "LayoutView",
       "align_content": null,
       "align_items": null,
       "align_self": null,
       "border": null,
       "bottom": null,
       "display": null,
       "flex": null,
       "flex_flow": null,
       "grid_area": null,
       "grid_auto_columns": null,
       "grid_auto_flow": null,
       "grid_auto_rows": null,
       "grid_column": null,
       "grid_gap": null,
       "grid_row": null,
       "grid_template_areas": null,
       "grid_template_columns": null,
       "grid_template_rows": null,
       "height": null,
       "justify_content": null,
       "justify_items": null,
       "left": null,
       "margin": null,
       "max_height": null,
       "max_width": null,
       "min_height": null,
       "min_width": null,
       "object_fit": null,
       "object_position": null,
       "order": null,
       "overflow": null,
       "overflow_x": null,
       "overflow_y": null,
       "padding": null,
       "right": null,
       "top": null,
       "visibility": null,
       "width": null
      }
     },
     "c39be547bf554876972a98e3b0d8c6ad": {
      "model_module": "@jupyter-widgets/base",
      "model_module_version": "1.2.0",
      "model_name": "LayoutModel",
      "state": {
       "_model_module": "@jupyter-widgets/base",
       "_model_module_version": "1.2.0",
       "_model_name": "LayoutModel",
       "_view_count": null,
       "_view_module": "@jupyter-widgets/base",
       "_view_module_version": "1.2.0",
       "_view_name": "LayoutView",
       "align_content": null,
       "align_items": null,
       "align_self": null,
       "border": null,
       "bottom": null,
       "display": null,
       "flex": null,
       "flex_flow": null,
       "grid_area": null,
       "grid_auto_columns": null,
       "grid_auto_flow": null,
       "grid_auto_rows": null,
       "grid_column": null,
       "grid_gap": null,
       "grid_row": null,
       "grid_template_areas": null,
       "grid_template_columns": null,
       "grid_template_rows": null,
       "height": null,
       "justify_content": null,
       "justify_items": null,
       "left": null,
       "margin": null,
       "max_height": null,
       "max_width": null,
       "min_height": null,
       "min_width": null,
       "object_fit": null,
       "object_position": null,
       "order": null,
       "overflow": null,
       "overflow_x": null,
       "overflow_y": null,
       "padding": null,
       "right": null,
       "top": null,
       "visibility": null,
       "width": null
      }
     },
     "c88ae47b21414515b0d293a06b4a43e0": {
      "model_module": "@jupyter-widgets/controls",
      "model_module_version": "1.5.0",
      "model_name": "FloatProgressModel",
      "state": {
       "_dom_classes": [],
       "_model_module": "@jupyter-widgets/controls",
       "_model_module_version": "1.5.0",
       "_model_name": "FloatProgressModel",
       "_view_count": null,
       "_view_module": "@jupyter-widgets/controls",
       "_view_module_version": "1.5.0",
       "_view_name": "ProgressView",
       "bar_style": "success",
       "description": "",
       "description_tooltip": null,
       "layout": "IPY_MODEL_9bc1be476d8f45a1ac6aa60345146e69",
       "max": 21,
       "min": 0,
       "orientation": "horizontal",
       "style": "IPY_MODEL_14e890b52707494c90e22caa4124953d",
       "value": 21
      }
     },
     "ceae34adf6e0423b907b38774c22aac0": {
      "model_module": "@jupyter-widgets/controls",
      "model_module_version": "1.5.0",
      "model_name": "HTMLModel",
      "state": {
       "_dom_classes": [],
       "_model_module": "@jupyter-widgets/controls",
       "_model_module_version": "1.5.0",
       "_model_name": "HTMLModel",
       "_view_count": null,
       "_view_module": "@jupyter-widgets/controls",
       "_view_module_version": "1.5.0",
       "_view_name": "HTMLView",
       "description": "",
       "description_tooltip": null,
       "layout": "IPY_MODEL_0189a04f69264616ab3f7fef23bc608a",
       "placeholder": "​",
       "style": "IPY_MODEL_5224a2bd3edd4db2b20c1eed585a2702",
       "value": "100%"
      }
     },
     "d23b6f1916814c7aab30c582bf0be5b7": {
      "model_module": "@jupyter-widgets/controls",
      "model_module_version": "1.5.0",
      "model_name": "HTMLModel",
      "state": {
       "_dom_classes": [],
       "_model_module": "@jupyter-widgets/controls",
       "_model_module_version": "1.5.0",
       "_model_name": "HTMLModel",
       "_view_count": null,
       "_view_module": "@jupyter-widgets/controls",
       "_view_module_version": "1.5.0",
       "_view_name": "HTMLView",
       "description": "",
       "description_tooltip": null,
       "layout": "IPY_MODEL_40299569dffe4062954a28967d0c2da5",
       "placeholder": "​",
       "style": "IPY_MODEL_e8d360fbe456426d9a9be69eb17db2ed",
       "value": "100%"
      }
     },
     "d2b2cb6750c84039a595af336c5d0a0a": {
      "model_module": "@jupyter-widgets/controls",
      "model_module_version": "1.5.0",
      "model_name": "DescriptionStyleModel",
      "state": {
       "_model_module": "@jupyter-widgets/controls",
       "_model_module_version": "1.5.0",
       "_model_name": "DescriptionStyleModel",
       "_view_count": null,
       "_view_module": "@jupyter-widgets/base",
       "_view_module_version": "1.2.0",
       "_view_name": "StyleView",
       "description_width": ""
      }
     },
     "e37eeb5f1a7f4912a6c798a35975f50d": {
      "model_module": "@jupyter-widgets/controls",
      "model_module_version": "1.5.0",
      "model_name": "ProgressStyleModel",
      "state": {
       "_model_module": "@jupyter-widgets/controls",
       "_model_module_version": "1.5.0",
       "_model_name": "ProgressStyleModel",
       "_view_count": null,
       "_view_module": "@jupyter-widgets/base",
       "_view_module_version": "1.2.0",
       "_view_name": "StyleView",
       "bar_color": null,
       "description_width": ""
      }
     },
     "e563a38826844a68892200c4f28d36cb": {
      "model_module": "@jupyter-widgets/base",
      "model_module_version": "1.2.0",
      "model_name": "LayoutModel",
      "state": {
       "_model_module": "@jupyter-widgets/base",
       "_model_module_version": "1.2.0",
       "_model_name": "LayoutModel",
       "_view_count": null,
       "_view_module": "@jupyter-widgets/base",
       "_view_module_version": "1.2.0",
       "_view_name": "LayoutView",
       "align_content": null,
       "align_items": null,
       "align_self": null,
       "border": null,
       "bottom": null,
       "display": null,
       "flex": null,
       "flex_flow": null,
       "grid_area": null,
       "grid_auto_columns": null,
       "grid_auto_flow": null,
       "grid_auto_rows": null,
       "grid_column": null,
       "grid_gap": null,
       "grid_row": null,
       "grid_template_areas": null,
       "grid_template_columns": null,
       "grid_template_rows": null,
       "height": null,
       "justify_content": null,
       "justify_items": null,
       "left": null,
       "margin": null,
       "max_height": null,
       "max_width": null,
       "min_height": null,
       "min_width": null,
       "object_fit": null,
       "object_position": null,
       "order": null,
       "overflow": null,
       "overflow_x": null,
       "overflow_y": null,
       "padding": null,
       "right": null,
       "top": null,
       "visibility": null,
       "width": null
      }
     },
     "e6950cd24e354521a38f18cb358bd690": {
      "model_module": "@jupyter-widgets/controls",
      "model_module_version": "1.5.0",
      "model_name": "HTMLModel",
      "state": {
       "_dom_classes": [],
       "_model_module": "@jupyter-widgets/controls",
       "_model_module_version": "1.5.0",
       "_model_name": "HTMLModel",
       "_view_count": null,
       "_view_module": "@jupyter-widgets/controls",
       "_view_module_version": "1.5.0",
       "_view_name": "HTMLView",
       "description": "",
       "description_tooltip": null,
       "layout": "IPY_MODEL_a67e055f3c084b969c2763cbb8c660bc",
       "placeholder": "​",
       "style": "IPY_MODEL_84a6cd1affb34e58a9bfec9130fe1dfa",
       "value": "100%"
      }
     },
     "e8d360fbe456426d9a9be69eb17db2ed": {
      "model_module": "@jupyter-widgets/controls",
      "model_module_version": "1.5.0",
      "model_name": "DescriptionStyleModel",
      "state": {
       "_model_module": "@jupyter-widgets/controls",
       "_model_module_version": "1.5.0",
       "_model_name": "DescriptionStyleModel",
       "_view_count": null,
       "_view_module": "@jupyter-widgets/base",
       "_view_module_version": "1.2.0",
       "_view_name": "StyleView",
       "description_width": ""
      }
     },
     "f8f08d56b4994ce3a47a1465fd46af06": {
      "model_module": "@jupyter-widgets/controls",
      "model_module_version": "1.5.0",
      "model_name": "HTMLModel",
      "state": {
       "_dom_classes": [],
       "_model_module": "@jupyter-widgets/controls",
       "_model_module_version": "1.5.0",
       "_model_name": "HTMLModel",
       "_view_count": null,
       "_view_module": "@jupyter-widgets/controls",
       "_view_module_version": "1.5.0",
       "_view_name": "HTMLView",
       "description": "",
       "description_tooltip": null,
       "layout": "IPY_MODEL_bb402aa1779a42e6877b05904c504569",
       "placeholder": "​",
       "style": "IPY_MODEL_695cfbeda7f14a1ab7ef6bb00008a8d4",
       "value": " 21/21 [05:06&lt;00:00, 13.71s/it]"
      }
     }
    },
    "version_major": 2,
    "version_minor": 0
   }
  }
 },
 "nbformat": 4,
 "nbformat_minor": 4
}
